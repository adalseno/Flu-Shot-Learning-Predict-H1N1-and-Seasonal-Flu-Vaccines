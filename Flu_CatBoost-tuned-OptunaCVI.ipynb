{
 "cells": [
  {
   "cell_type": "markdown",
   "metadata": {},
   "source": [
    "<h1>Flu Shot Learning: Predict H1N1 and Seasonal Flu Vaccines</h1>"
   ]
  },
  {
   "cell_type": "markdown",
   "metadata": {},
   "source": [
    "## Imports"
   ]
  },
  {
   "cell_type": "code",
   "execution_count": 1,
   "metadata": {},
   "outputs": [],
   "source": [
    "import pandas as pd\n",
    "import numpy as np\n",
    "import matplotlib.pyplot as plt\n",
    "import seaborn as sns\n",
    "import pandas_profiling as pf\n",
    "%matplotlib inline"
   ]
  },
  {
   "cell_type": "markdown",
   "metadata": {},
   "source": [
    "## Load data"
   ]
  },
  {
   "cell_type": "code",
   "execution_count": 2,
   "metadata": {},
   "outputs": [],
   "source": [
    "train = pd.read_csv('./training_set_features.csv', index_col='respondent_id')"
   ]
  },
  {
   "cell_type": "code",
   "execution_count": 3,
   "metadata": {},
   "outputs": [],
   "source": [
    "test = pd.read_csv('./test_set_features.csv', index_col='respondent_id')"
   ]
  },
  {
   "cell_type": "code",
   "execution_count": 4,
   "metadata": {},
   "outputs": [],
   "source": [
    "labels = pd.read_csv('./training_set_labels.csv', index_col='respondent_id')"
   ]
  },
  {
   "cell_type": "markdown",
   "metadata": {},
   "source": [
    "### Imputation strategy"
   ]
  },
  {
   "cell_type": "code",
   "execution_count": 5,
   "metadata": {},
   "outputs": [],
   "source": [
    "num_cols = train.select_dtypes('number').columns"
   ]
  },
  {
   "cell_type": "code",
   "execution_count": 6,
   "metadata": {},
   "outputs": [],
   "source": [
    "cat_cols = ['race', 'sex', \n",
    "       'marital_status', 'rent_or_own',  'hhs_geo_region',\n",
    "       'census_msa', 'employment_industry', 'employment_occupation']"
   ]
  },
  {
   "cell_type": "code",
   "execution_count": 7,
   "metadata": {},
   "outputs": [],
   "source": [
    "ord_cols = ['age_group', 'education',  'income_poverty',\n",
    "        'employment_status']"
   ]
  },
  {
   "cell_type": "code",
   "execution_count": 8,
   "metadata": {},
   "outputs": [],
   "source": [
    "assert len(num_cols)+len(cat_cols)+len(ord_cols) == train.shape[1]"
   ]
  },
  {
   "cell_type": "code",
   "execution_count": 9,
   "metadata": {},
   "outputs": [],
   "source": [
    "from sklearn.pipeline import Pipeline\n",
    "from sklearn.preprocessing import MinMaxScaler, StandardScaler, OneHotEncoder\n",
    "from sklearn.impute import SimpleImputer\n",
    "from sklearn.compose import ColumnTransformer\n",
    "from category_encoders import OrdinalEncoder as oe\n",
    "from catboost import CatBoostClassifier\n",
    "from catboost import Pool, cv\n",
    "from sklearn.metrics import roc_curve, roc_auc_score\n",
    "import optuna"
   ]
  },
  {
   "cell_type": "markdown",
   "metadata": {},
   "source": [
    "#### Impute train"
   ]
  },
  {
   "cell_type": "code",
   "execution_count": 11,
   "metadata": {},
   "outputs": [],
   "source": [
    "# Categorical columns None\n",
    "for col in (cat_cols+ord_cols):\n",
    "    train[col] = train[col].fillna(value='None')"
   ]
  },
  {
   "cell_type": "code",
   "execution_count": 12,
   "metadata": {},
   "outputs": [],
   "source": [
    "for col in num_cols:\n",
    "    train[col] = train[col].fillna(value=-1)"
   ]
  },
  {
   "cell_type": "markdown",
   "metadata": {},
   "source": [
    "#### Impute test"
   ]
  },
  {
   "cell_type": "code",
   "execution_count": 15,
   "metadata": {},
   "outputs": [],
   "source": [
    "# Categorical columns None\n",
    "for col in (cat_cols+ord_cols):\n",
    "    test[col] = test[col].fillna(value='None')"
   ]
  },
  {
   "cell_type": "code",
   "execution_count": 16,
   "metadata": {},
   "outputs": [],
   "source": [
    "for col in num_cols:\n",
    "    test[col] = test[col].fillna(value=-1)"
   ]
  },
  {
   "cell_type": "markdown",
   "metadata": {},
   "source": [
    "### Train test split"
   ]
  },
  {
   "cell_type": "code",
   "execution_count": 18,
   "metadata": {},
   "outputs": [],
   "source": [
    "from sklearn.model_selection import train_test_split"
   ]
  },
  {
   "cell_type": "code",
   "execution_count": 19,
   "metadata": {},
   "outputs": [],
   "source": [
    "X_train, X_test, y_train, y_test = train_test_split( train, labels, test_size=0.3, random_state=68)"
   ]
  },
  {
   "cell_type": "code",
   "execution_count": 20,
   "metadata": {},
   "outputs": [],
   "source": [
    "# Get the index number of categorical features\n",
    "categorical_features_indices = np.where(X_train.dtypes != float)[0]"
   ]
  },
  {
   "cell_type": "markdown",
   "metadata": {},
   "source": [
    "### Optimize with Optuna and cross validation\n",
    "\n",
    "Using just the selected features idetified in the previous notebook, led to poor perfomances; it seems to be better to use all the columns. CatBoost can easily deal with useless features not using them. "
   ]
  },
  {
   "cell_type": "code",
   "execution_count": 21,
   "metadata": {},
   "outputs": [],
   "source": [
    "train_dataset = Pool(data=X_train,\n",
    "                     label=y_train.h1n1_vaccine,\n",
    "                     cat_features = categorical_features_indices)"
   ]
  },
  {
   "cell_type": "code",
   "execution_count": 22,
   "metadata": {},
   "outputs": [],
   "source": [
    "def objective(trial):\n",
    "    param = {\n",
    "        'iterations':trial.suggest_categorical('iterations', [100,200,300,500,1000,1200,1500]),\n",
    "        'learning_rate':trial.suggest_float(\"learning_rate\", 0.001, 0.3),\n",
    "        'random_strength':trial.suggest_int(\"random_strength\", 1,10),\n",
    "        'bagging_temperature':trial.suggest_int(\"bagging_temperature\", 0,10),\n",
    "        'max_bin':trial.suggest_categorical('max_bin', [4,5,6,8,10,20,30]),\n",
    "        'grow_policy':trial.suggest_categorical('grow_policy', ['SymmetricTree', 'Depthwise', 'Lossguide']),\n",
    "        'min_data_in_leaf':trial.suggest_int(\"min_data_in_leaf\", 1,10),\n",
    "        'od_type' : \"Iter\",\n",
    "        'od_wait' : 100,\n",
    "        \"depth\": trial.suggest_int(\"max_depth\", 2,10),\n",
    "        \"l2_leaf_reg\": trial.suggest_loguniform(\"l2_leaf_reg\", 1e-8, 100),\n",
    "         'one_hot_max_size':trial.suggest_categorical('one_hot_max_size', [5,10,12,100,500,1024]),\n",
    "        'custom_metric' : ['AUC'],\n",
    "        \"loss_function\": \"Logloss\",\n",
    "        'auto_class_weights':trial.suggest_categorical('auto_class_weights', ['Balanced', 'SqrtBalanced']),\n",
    "        }\n",
    "\n",
    "    scores = cv(train_dataset,\n",
    "            param,\n",
    "            fold_count=5, \n",
    "            early_stopping_rounds=10,         \n",
    "            plot=False, verbose=False)\n",
    "\n",
    "    return scores['test-AUC-mean'].max()"
   ]
  },
  {
   "cell_type": "markdown",
   "metadata": {},
   "source": [
    "Even though CatBoost is quite fast and I used early stopping, it's going to run 100 fits so it takes a lot of time. You can avoid re-running the optimisation and copy the parameters from the print report replacing `**trial.params` when calling CatBoost"
   ]
  },
  {
   "cell_type": "code",
   "execution_count": 23,
   "metadata": {},
   "outputs": [
    {
     "name": "stderr",
     "output_type": "stream",
     "text": [
      "\u001b[32m[I 2021-02-17 01:10:29,502]\u001b[0m A new study created in memory with name: no-name-6d494258-5754-40be-85bc-9ad0ddf11f82\u001b[0m\n",
      "\u001b[32m[I 2021-02-17 01:10:56,712]\u001b[0m Trial 0 finished with value: 0.8637121084738049 and parameters: {'iterations': 300, 'learning_rate': 0.013964954297408176, 'random_strength': 1, 'bagging_temperature': 8, 'max_bin': 10, 'grow_policy': 'Lossguide', 'min_data_in_leaf': 4, 'max_depth': 5, 'l2_leaf_reg': 21.328495943450676, 'one_hot_max_size': 100, 'auto_class_weights': 'SqrtBalanced'}. Best is trial 0 with value: 0.8637121084738049.\u001b[0m\n",
      "\u001b[32m[I 2021-02-17 01:11:09,451]\u001b[0m Trial 1 finished with value: 0.8638461530457093 and parameters: {'iterations': 1200, 'learning_rate': 0.11477165079768124, 'random_strength': 9, 'bagging_temperature': 6, 'max_bin': 5, 'grow_policy': 'Lossguide', 'min_data_in_leaf': 5, 'max_depth': 7, 'l2_leaf_reg': 0.5714362138520529, 'one_hot_max_size': 500, 'auto_class_weights': 'SqrtBalanced'}. Best is trial 1 with value: 0.8638461530457093.\u001b[0m\n"
     ]
    },
    {
     "name": "stdout",
     "output_type": "stream",
     "text": [
      "Stopped by overfitting detector  (10 iterations wait)\n"
     ]
    },
    {
     "name": "stderr",
     "output_type": "stream",
     "text": [
      "\u001b[32m[I 2021-02-17 01:11:31,776]\u001b[0m Trial 2 finished with value: 0.8639277452137699 and parameters: {'iterations': 1500, 'learning_rate': 0.06018181691194878, 'random_strength': 6, 'bagging_temperature': 4, 'max_bin': 10, 'grow_policy': 'Lossguide', 'min_data_in_leaf': 6, 'max_depth': 4, 'l2_leaf_reg': 7.937278880272323e-06, 'one_hot_max_size': 12, 'auto_class_weights': 'Balanced'}. Best is trial 2 with value: 0.8639277452137699.\u001b[0m\n"
     ]
    },
    {
     "name": "stdout",
     "output_type": "stream",
     "text": [
      "Stopped by overfitting detector  (10 iterations wait)\n"
     ]
    },
    {
     "name": "stderr",
     "output_type": "stream",
     "text": [
      "\u001b[32m[I 2021-02-17 01:11:41,329]\u001b[0m Trial 3 finished with value: 0.8608185752295553 and parameters: {'iterations': 100, 'learning_rate': 0.04917655399574397, 'random_strength': 1, 'bagging_temperature': 5, 'max_bin': 30, 'grow_policy': 'Lossguide', 'min_data_in_leaf': 3, 'max_depth': 6, 'l2_leaf_reg': 1.253388039132331e-06, 'one_hot_max_size': 500, 'auto_class_weights': 'SqrtBalanced'}. Best is trial 2 with value: 0.8639277452137699.\u001b[0m\n",
      "\u001b[32m[I 2021-02-17 01:11:50,036]\u001b[0m Trial 4 finished with value: 0.862663502918525 and parameters: {'iterations': 1500, 'learning_rate': 0.20567786125414012, 'random_strength': 8, 'bagging_temperature': 7, 'max_bin': 20, 'grow_policy': 'Lossguide', 'min_data_in_leaf': 7, 'max_depth': 2, 'l2_leaf_reg': 0.0011659140576640084, 'one_hot_max_size': 12, 'auto_class_weights': 'SqrtBalanced'}. Best is trial 2 with value: 0.8639277452137699.\u001b[0m\n"
     ]
    },
    {
     "name": "stdout",
     "output_type": "stream",
     "text": [
      "Stopped by overfitting detector  (10 iterations wait)\n"
     ]
    },
    {
     "name": "stderr",
     "output_type": "stream",
     "text": [
      "\u001b[32m[I 2021-02-17 01:11:55,142]\u001b[0m Trial 5 finished with value: 0.8599896908158534 and parameters: {'iterations': 100, 'learning_rate': 0.21103536986772822, 'random_strength': 4, 'bagging_temperature': 4, 'max_bin': 6, 'grow_policy': 'Lossguide', 'min_data_in_leaf': 6, 'max_depth': 4, 'l2_leaf_reg': 1.5248267732768012e-08, 'one_hot_max_size': 100, 'auto_class_weights': 'SqrtBalanced'}. Best is trial 2 with value: 0.8639277452137699.\u001b[0m\n"
     ]
    },
    {
     "name": "stdout",
     "output_type": "stream",
     "text": [
      "Stopped by overfitting detector  (10 iterations wait)\n"
     ]
    },
    {
     "name": "stderr",
     "output_type": "stream",
     "text": [
      "\u001b[32m[I 2021-02-17 01:12:21,311]\u001b[0m Trial 6 finished with value: 0.8630183917790957 and parameters: {'iterations': 1000, 'learning_rate': 0.039222305770230614, 'random_strength': 5, 'bagging_temperature': 3, 'max_bin': 20, 'grow_policy': 'SymmetricTree', 'min_data_in_leaf': 10, 'max_depth': 4, 'l2_leaf_reg': 3.544948380552023e-06, 'one_hot_max_size': 10, 'auto_class_weights': 'Balanced'}. Best is trial 2 with value: 0.8639277452137699.\u001b[0m\n"
     ]
    },
    {
     "name": "stdout",
     "output_type": "stream",
     "text": [
      "Stopped by overfitting detector  (10 iterations wait)\n"
     ]
    },
    {
     "name": "stderr",
     "output_type": "stream",
     "text": [
      "\u001b[32m[I 2021-02-17 01:12:52,729]\u001b[0m Trial 7 finished with value: 0.8620990008631028 and parameters: {'iterations': 1000, 'learning_rate': 0.045869610193466345, 'random_strength': 9, 'bagging_temperature': 10, 'max_bin': 30, 'grow_policy': 'Lossguide', 'min_data_in_leaf': 8, 'max_depth': 5, 'l2_leaf_reg': 6.629274905463984e-06, 'one_hot_max_size': 12, 'auto_class_weights': 'Balanced'}. Best is trial 2 with value: 0.8639277452137699.\u001b[0m\n"
     ]
    },
    {
     "name": "stdout",
     "output_type": "stream",
     "text": [
      "Stopped by overfitting detector  (10 iterations wait)\n"
     ]
    },
    {
     "name": "stderr",
     "output_type": "stream",
     "text": [
      "\u001b[32m[I 2021-02-17 01:12:57,383]\u001b[0m Trial 8 finished with value: 0.8514819320769826 and parameters: {'iterations': 1500, 'learning_rate': 0.2775338323862574, 'random_strength': 6, 'bagging_temperature': 4, 'max_bin': 4, 'grow_policy': 'Lossguide', 'min_data_in_leaf': 9, 'max_depth': 9, 'l2_leaf_reg': 0.0010943835695463693, 'one_hot_max_size': 500, 'auto_class_weights': 'SqrtBalanced'}. Best is trial 2 with value: 0.8639277452137699.\u001b[0m\n"
     ]
    },
    {
     "name": "stdout",
     "output_type": "stream",
     "text": [
      "Stopped by overfitting detector  (10 iterations wait)\n"
     ]
    },
    {
     "name": "stderr",
     "output_type": "stream",
     "text": [
      "\u001b[32m[I 2021-02-17 01:13:01,061]\u001b[0m Trial 9 finished with value: 0.8591475043535439 and parameters: {'iterations': 1000, 'learning_rate': 0.16527427195333977, 'random_strength': 1, 'bagging_temperature': 9, 'max_bin': 8, 'grow_policy': 'SymmetricTree', 'min_data_in_leaf': 2, 'max_depth': 5, 'l2_leaf_reg': 5.547808519611033e-05, 'one_hot_max_size': 100, 'auto_class_weights': 'SqrtBalanced'}. Best is trial 2 with value: 0.8639277452137699.\u001b[0m\n"
     ]
    },
    {
     "name": "stdout",
     "output_type": "stream",
     "text": [
      "Stopped by overfitting detector  (10 iterations wait)\n"
     ]
    },
    {
     "name": "stderr",
     "output_type": "stream",
     "text": [
      "\u001b[32m[I 2021-02-17 01:13:13,900]\u001b[0m Trial 10 finished with value: 0.86312465124197 and parameters: {'iterations': 500, 'learning_rate': 0.10255531532633722, 'random_strength': 3, 'bagging_temperature': 0, 'max_bin': 10, 'grow_policy': 'Depthwise', 'min_data_in_leaf': 1, 'max_depth': 2, 'l2_leaf_reg': 1.2457134741928232e-08, 'one_hot_max_size': 1024, 'auto_class_weights': 'Balanced'}. Best is trial 2 with value: 0.8639277452137699.\u001b[0m\n"
     ]
    },
    {
     "name": "stdout",
     "output_type": "stream",
     "text": [
      "Stopped by overfitting detector  (10 iterations wait)\n"
     ]
    },
    {
     "name": "stderr",
     "output_type": "stream",
     "text": [
      "\u001b[32m[I 2021-02-17 01:13:31,547]\u001b[0m Trial 11 finished with value: 0.8616743981860878 and parameters: {'iterations': 1200, 'learning_rate': 0.11052261047321708, 'random_strength': 10, 'bagging_temperature': 1, 'max_bin': 5, 'grow_policy': 'Depthwise', 'min_data_in_leaf': 5, 'max_depth': 8, 'l2_leaf_reg': 1.5237074558155712, 'one_hot_max_size': 5, 'auto_class_weights': 'Balanced'}. Best is trial 2 with value: 0.8639277452137699.\u001b[0m\n"
     ]
    },
    {
     "name": "stdout",
     "output_type": "stream",
     "text": [
      "Stopped by overfitting detector  (10 iterations wait)\n"
     ]
    },
    {
     "name": "stderr",
     "output_type": "stream",
     "text": [
      "\u001b[32m[I 2021-02-17 01:13:49,317]\u001b[0m Trial 12 finished with value: 0.8627903938137103 and parameters: {'iterations': 200, 'learning_rate': 0.09690271753319116, 'random_strength': 7, 'bagging_temperature': 6, 'max_bin': 5, 'grow_policy': 'Lossguide', 'min_data_in_leaf': 6, 'max_depth': 7, 'l2_leaf_reg': 0.12547937691306765, 'one_hot_max_size': 12, 'auto_class_weights': 'Balanced'}. Best is trial 2 with value: 0.8639277452137699.\u001b[0m\n"
     ]
    },
    {
     "name": "stdout",
     "output_type": "stream",
     "text": [
      "Stopped by overfitting detector  (10 iterations wait)\n"
     ]
    },
    {
     "name": "stderr",
     "output_type": "stream",
     "text": [
      "\u001b[32m[I 2021-02-17 01:13:59,621]\u001b[0m Trial 13 finished with value: 0.85896048235637 and parameters: {'iterations': 1200, 'learning_rate': 0.1457224504434956, 'random_strength': 10, 'bagging_temperature': 2, 'max_bin': 5, 'grow_policy': 'Lossguide', 'min_data_in_leaf': 4, 'max_depth': 10, 'l2_leaf_reg': 0.038036172848702254, 'one_hot_max_size': 500, 'auto_class_weights': 'Balanced'}. Best is trial 2 with value: 0.8639277452137699.\u001b[0m\n"
     ]
    },
    {
     "name": "stdout",
     "output_type": "stream",
     "text": [
      "Stopped by overfitting detector  (10 iterations wait)\n"
     ]
    },
    {
     "name": "stderr",
     "output_type": "stream",
     "text": [
      "\u001b[32m[I 2021-02-17 01:14:37,845]\u001b[0m Trial 14 finished with value: 0.8677815245165366 and parameters: {'iterations': 1500, 'learning_rate': 0.07546864165714305, 'random_strength': 8, 'bagging_temperature': 6, 'max_bin': 10, 'grow_policy': 'SymmetricTree', 'min_data_in_leaf': 7, 'max_depth': 7, 'l2_leaf_reg': 72.18032173984822, 'one_hot_max_size': 10, 'auto_class_weights': 'SqrtBalanced'}. Best is trial 14 with value: 0.8677815245165366.\u001b[0m\n"
     ]
    },
    {
     "name": "stdout",
     "output_type": "stream",
     "text": [
      "Stopped by overfitting detector  (10 iterations wait)\n"
     ]
    },
    {
     "name": "stderr",
     "output_type": "stream",
     "text": [
      "\u001b[32m[I 2021-02-17 01:16:03,842]\u001b[0m Trial 15 finished with value: 0.8634974959527698 and parameters: {'iterations': 1500, 'learning_rate': 0.011350538270844507, 'random_strength': 7, 'bagging_temperature': 5, 'max_bin': 10, 'grow_policy': 'SymmetricTree', 'min_data_in_leaf': 8, 'max_depth': 3, 'l2_leaf_reg': 1.7957419364299216e-07, 'one_hot_max_size': 10, 'auto_class_weights': 'Balanced'}. Best is trial 14 with value: 0.8677815245165366.\u001b[0m\n",
      "\u001b[32m[I 2021-02-17 01:16:41,131]\u001b[0m Trial 16 finished with value: 0.8669783181926874 and parameters: {'iterations': 1500, 'learning_rate': 0.07114368764050794, 'random_strength': 5, 'bagging_temperature': 7, 'max_bin': 10, 'grow_policy': 'SymmetricTree', 'min_data_in_leaf': 7, 'max_depth': 8, 'l2_leaf_reg': 59.30204606639954, 'one_hot_max_size': 10, 'auto_class_weights': 'SqrtBalanced'}. Best is trial 14 with value: 0.8677815245165366.\u001b[0m\n"
     ]
    },
    {
     "name": "stdout",
     "output_type": "stream",
     "text": [
      "Stopped by overfitting detector  (10 iterations wait)\n"
     ]
    },
    {
     "name": "stderr",
     "output_type": "stream",
     "text": [
      "\u001b[32m[I 2021-02-17 01:17:13,681]\u001b[0m Trial 17 finished with value: 0.8658613573184872 and parameters: {'iterations': 1500, 'learning_rate': 0.07916430077690408, 'random_strength': 3, 'bagging_temperature': 8, 'max_bin': 10, 'grow_policy': 'SymmetricTree', 'min_data_in_leaf': 10, 'max_depth': 10, 'l2_leaf_reg': 43.272305097041944, 'one_hot_max_size': 10, 'auto_class_weights': 'SqrtBalanced'}. Best is trial 14 with value: 0.8677815245165366.\u001b[0m\n"
     ]
    },
    {
     "name": "stdout",
     "output_type": "stream",
     "text": [
      "Stopped by overfitting detector  (10 iterations wait)\n"
     ]
    },
    {
     "name": "stderr",
     "output_type": "stream",
     "text": [
      "\u001b[32m[I 2021-02-17 01:17:26,100]\u001b[0m Trial 18 finished with value: 0.865327007791503 and parameters: {'iterations': 1500, 'learning_rate': 0.1444241922111979, 'random_strength': 5, 'bagging_temperature': 10, 'max_bin': 10, 'grow_policy': 'SymmetricTree', 'min_data_in_leaf': 8, 'max_depth': 8, 'l2_leaf_reg': 7.251031771279269, 'one_hot_max_size': 10, 'auto_class_weights': 'SqrtBalanced'}. Best is trial 14 with value: 0.8677815245165366.\u001b[0m\n"
     ]
    },
    {
     "name": "stdout",
     "output_type": "stream",
     "text": [
      "Stopped by overfitting detector  (10 iterations wait)\n"
     ]
    },
    {
     "name": "stderr",
     "output_type": "stream",
     "text": [
      "\u001b[32m[I 2021-02-17 01:17:53,798]\u001b[0m Trial 19 finished with value: 0.8568209709960097 and parameters: {'iterations': 200, 'learning_rate': 0.014674758092745856, 'random_strength': 8, 'bagging_temperature': 7, 'max_bin': 8, 'grow_policy': 'SymmetricTree', 'min_data_in_leaf': 7, 'max_depth': 8, 'l2_leaf_reg': 84.11021785041464, 'one_hot_max_size': 10, 'auto_class_weights': 'SqrtBalanced'}. Best is trial 14 with value: 0.8677815245165366.\u001b[0m\n",
      "\u001b[32m[I 2021-02-17 01:18:07,950]\u001b[0m Trial 20 finished with value: 0.8552130418981457 and parameters: {'iterations': 300, 'learning_rate': 0.07383261224712181, 'random_strength': 4, 'bagging_temperature': 7, 'max_bin': 6, 'grow_policy': 'SymmetricTree', 'min_data_in_leaf': 9, 'max_depth': 9, 'l2_leaf_reg': 0.010192014938373961, 'one_hot_max_size': 5, 'auto_class_weights': 'SqrtBalanced'}. Best is trial 14 with value: 0.8677815245165366.\u001b[0m\n"
     ]
    },
    {
     "name": "stdout",
     "output_type": "stream",
     "text": [
      "Stopped by overfitting detector  (10 iterations wait)\n"
     ]
    },
    {
     "name": "stderr",
     "output_type": "stream",
     "text": [
      "\u001b[32m[I 2021-02-17 01:18:45,197]\u001b[0m Trial 21 finished with value: 0.8660425278086379 and parameters: {'iterations': 1500, 'learning_rate': 0.07876046202849701, 'random_strength': 3, 'bagging_temperature': 8, 'max_bin': 10, 'grow_policy': 'SymmetricTree', 'min_data_in_leaf': 10, 'max_depth': 10, 'l2_leaf_reg': 66.09221125080096, 'one_hot_max_size': 10, 'auto_class_weights': 'SqrtBalanced'}. Best is trial 14 with value: 0.8677815245165366.\u001b[0m\n"
     ]
    },
    {
     "name": "stdout",
     "output_type": "stream",
     "text": [
      "Stopped by overfitting detector  (10 iterations wait)\n"
     ]
    },
    {
     "name": "stderr",
     "output_type": "stream",
     "text": [
      "\u001b[32m[I 2021-02-17 01:18:56,901]\u001b[0m Trial 22 finished with value: 0.8612015207041264 and parameters: {'iterations': 1500, 'learning_rate': 0.12711633459157837, 'random_strength': 3, 'bagging_temperature': 9, 'max_bin': 10, 'grow_policy': 'SymmetricTree', 'min_data_in_leaf': 7, 'max_depth': 9, 'l2_leaf_reg': 3.402512143664688, 'one_hot_max_size': 10, 'auto_class_weights': 'SqrtBalanced'}. Best is trial 14 with value: 0.8677815245165366.\u001b[0m\n"
     ]
    },
    {
     "name": "stdout",
     "output_type": "stream",
     "text": [
      "Stopped by overfitting detector  (10 iterations wait)\n"
     ]
    },
    {
     "name": "stderr",
     "output_type": "stream",
     "text": [
      "\u001b[32m[I 2021-02-17 01:19:18,772]\u001b[0m Trial 23 finished with value: 0.8659444313076863 and parameters: {'iterations': 500, 'learning_rate': 0.07656572504789284, 'random_strength': 4, 'bagging_temperature': 6, 'max_bin': 4, 'grow_policy': 'SymmetricTree', 'min_data_in_leaf': 9, 'max_depth': 7, 'l2_leaf_reg': 49.973740114421126, 'one_hot_max_size': 10, 'auto_class_weights': 'SqrtBalanced'}. Best is trial 14 with value: 0.8677815245165366.\u001b[0m\n"
     ]
    },
    {
     "name": "stdout",
     "output_type": "stream",
     "text": [
      "Stopped by overfitting detector  (10 iterations wait)\n"
     ]
    },
    {
     "name": "stderr",
     "output_type": "stream",
     "text": [
      "\u001b[32m[I 2021-02-17 01:19:50,888]\u001b[0m Trial 24 finished with value: 0.8586495002556218 and parameters: {'iterations': 1500, 'learning_rate': 0.03245113001722131, 'random_strength': 2, 'bagging_temperature': 8, 'max_bin': 10, 'grow_policy': 'SymmetricTree', 'min_data_in_leaf': 10, 'max_depth': 10, 'l2_leaf_reg': 0.24307125645822508, 'one_hot_max_size': 10, 'auto_class_weights': 'SqrtBalanced'}. Best is trial 14 with value: 0.8677815245165366.\u001b[0m\n"
     ]
    },
    {
     "name": "stdout",
     "output_type": "stream",
     "text": [
      "Stopped by overfitting detector  (10 iterations wait)\n"
     ]
    },
    {
     "name": "stderr",
     "output_type": "stream",
     "text": [
      "\u001b[32m[I 2021-02-17 01:19:58,340]\u001b[0m Trial 25 finished with value: 0.865411807281529 and parameters: {'iterations': 1500, 'learning_rate': 0.17650748421269213, 'random_strength': 5, 'bagging_temperature': 9, 'max_bin': 10, 'grow_policy': 'SymmetricTree', 'min_data_in_leaf': 7, 'max_depth': 6, 'l2_leaf_reg': 9.654947043651513, 'one_hot_max_size': 1024, 'auto_class_weights': 'SqrtBalanced'}. Best is trial 14 with value: 0.8677815245165366.\u001b[0m\n"
     ]
    },
    {
     "name": "stdout",
     "output_type": "stream",
     "text": [
      "Stopped by overfitting detector  (10 iterations wait)\n"
     ]
    },
    {
     "name": "stderr",
     "output_type": "stream",
     "text": [
      "\u001b[32m[I 2021-02-17 01:20:13,053]\u001b[0m Trial 26 finished with value: 0.8631789938825676 and parameters: {'iterations': 1500, 'learning_rate': 0.08906730961663088, 'random_strength': 2, 'bagging_temperature': 7, 'max_bin': 10, 'grow_policy': 'SymmetricTree', 'min_data_in_leaf': 8, 'max_depth': 8, 'l2_leaf_reg': 1.540660461935242, 'one_hot_max_size': 10, 'auto_class_weights': 'SqrtBalanced'}. Best is trial 14 with value: 0.8677815245165366.\u001b[0m\n"
     ]
    },
    {
     "name": "stdout",
     "output_type": "stream",
     "text": [
      "Stopped by overfitting detector  (10 iterations wait)\n"
     ]
    },
    {
     "name": "stderr",
     "output_type": "stream",
     "text": [
      "\u001b[32m[I 2021-02-17 01:20:33,407]\u001b[0m Trial 27 finished with value: 0.8645055104418322 and parameters: {'iterations': 1500, 'learning_rate': 0.1307998015265274, 'random_strength': 7, 'bagging_temperature': 6, 'max_bin': 10, 'grow_policy': 'Depthwise', 'min_data_in_leaf': 9, 'max_depth': 9, 'l2_leaf_reg': 61.61099781108686, 'one_hot_max_size': 10, 'auto_class_weights': 'SqrtBalanced'}. Best is trial 14 with value: 0.8677815245165366.\u001b[0m\n"
     ]
    },
    {
     "name": "stdout",
     "output_type": "stream",
     "text": [
      "Stopped by overfitting detector  (10 iterations wait)\n"
     ]
    },
    {
     "name": "stderr",
     "output_type": "stream",
     "text": [
      "\u001b[32m[I 2021-02-17 01:20:54,039]\u001b[0m Trial 28 finished with value: 0.8604788740772078 and parameters: {'iterations': 200, 'learning_rate': 0.02883948957336234, 'random_strength': 6, 'bagging_temperature': 8, 'max_bin': 8, 'grow_policy': 'SymmetricTree', 'min_data_in_leaf': 5, 'max_depth': 7, 'l2_leaf_reg': 99.11999661303703, 'one_hot_max_size': 10, 'auto_class_weights': 'SqrtBalanced'}. Best is trial 14 with value: 0.8677815245165366.\u001b[0m\n",
      "\u001b[32m[I 2021-02-17 01:21:18,084]\u001b[0m Trial 29 finished with value: 0.8678425816294796 and parameters: {'iterations': 300, 'learning_rate': 0.06497113989042527, 'random_strength': 2, 'bagging_temperature': 8, 'max_bin': 10, 'grow_policy': 'SymmetricTree', 'min_data_in_leaf': 4, 'max_depth': 6, 'l2_leaf_reg': 14.608689376691892, 'one_hot_max_size': 10, 'auto_class_weights': 'SqrtBalanced'}. Best is trial 29 with value: 0.8678425816294796.\u001b[0m\n"
     ]
    },
    {
     "name": "stdout",
     "output_type": "stream",
     "text": [
      "Stopped by overfitting detector  (10 iterations wait)\n"
     ]
    },
    {
     "name": "stderr",
     "output_type": "stream",
     "text": [
      "\u001b[32m[I 2021-02-17 01:21:36,338]\u001b[0m Trial 30 finished with value: 0.866345342440848 and parameters: {'iterations': 300, 'learning_rate': 0.05721513400326056, 'random_strength': 8, 'bagging_temperature': 5, 'max_bin': 6, 'grow_policy': 'SymmetricTree', 'min_data_in_leaf': 4, 'max_depth': 6, 'l2_leaf_reg': 11.867862081465056, 'one_hot_max_size': 1024, 'auto_class_weights': 'SqrtBalanced'}. Best is trial 29 with value: 0.8678425816294796.\u001b[0m\n",
      "\u001b[32m[I 2021-02-17 01:21:54,677]\u001b[0m Trial 31 finished with value: 0.8666377100088573 and parameters: {'iterations': 300, 'learning_rate': 0.06044247755774006, 'random_strength': 8, 'bagging_temperature': 5, 'max_bin': 6, 'grow_policy': 'SymmetricTree', 'min_data_in_leaf': 4, 'max_depth': 6, 'l2_leaf_reg': 15.041539218385608, 'one_hot_max_size': 1024, 'auto_class_weights': 'SqrtBalanced'}. Best is trial 29 with value: 0.8678425816294796.\u001b[0m\n",
      "\u001b[32m[I 2021-02-17 01:22:14,735]\u001b[0m Trial 32 finished with value: 0.8396449797115549 and parameters: {'iterations': 300, 'learning_rate': 0.0010484157152135937, 'random_strength': 9, 'bagging_temperature': 6, 'max_bin': 6, 'grow_policy': 'SymmetricTree', 'min_data_in_leaf': 3, 'max_depth': 6, 'l2_leaf_reg': 0.7309516629009586, 'one_hot_max_size': 1024, 'auto_class_weights': 'SqrtBalanced'}. Best is trial 29 with value: 0.8678425816294796.\u001b[0m\n",
      "\u001b[32m[I 2021-02-17 01:22:34,097]\u001b[0m Trial 33 finished with value: 0.8666151562693842 and parameters: {'iterations': 300, 'learning_rate': 0.06467637781292747, 'random_strength': 9, 'bagging_temperature': 6, 'max_bin': 6, 'grow_policy': 'SymmetricTree', 'min_data_in_leaf': 3, 'max_depth': 5, 'l2_leaf_reg': 12.597336631370117, 'one_hot_max_size': 1024, 'auto_class_weights': 'SqrtBalanced'}. Best is trial 29 with value: 0.8678425816294796.\u001b[0m\n",
      "\u001b[32m[I 2021-02-17 01:22:44,169]\u001b[0m Trial 34 finished with value: 0.8648758538435553 and parameters: {'iterations': 300, 'learning_rate': 0.11969371427319658, 'random_strength': 7, 'bagging_temperature': 3, 'max_bin': 30, 'grow_policy': 'SymmetricTree', 'min_data_in_leaf': 4, 'max_depth': 7, 'l2_leaf_reg': 3.576919784231605, 'one_hot_max_size': 1024, 'auto_class_weights': 'SqrtBalanced'}. Best is trial 29 with value: 0.8678425816294796.\u001b[0m\n"
     ]
    },
    {
     "name": "stdout",
     "output_type": "stream",
     "text": [
      "Stopped by overfitting detector  (10 iterations wait)\n"
     ]
    },
    {
     "name": "stderr",
     "output_type": "stream",
     "text": [
      "\u001b[32m[I 2021-02-17 01:23:12,340]\u001b[0m Trial 35 finished with value: 0.859091682907307 and parameters: {'iterations': 300, 'learning_rate': 0.01922536188539828, 'random_strength': 8, 'bagging_temperature': 7, 'max_bin': 20, 'grow_policy': 'SymmetricTree', 'min_data_in_leaf': 5, 'max_depth': 6, 'l2_leaf_reg': 0.01110740126745361, 'one_hot_max_size': 5, 'auto_class_weights': 'SqrtBalanced'}. Best is trial 29 with value: 0.8678425816294796.\u001b[0m\n",
      "\u001b[32m[I 2021-02-17 01:23:31,336]\u001b[0m Trial 36 finished with value: 0.863158373108166 and parameters: {'iterations': 300, 'learning_rate': 0.055530577898201136, 'random_strength': 9, 'bagging_temperature': 4, 'max_bin': 10, 'grow_policy': 'SymmetricTree', 'min_data_in_leaf': 6, 'max_depth': 7, 'l2_leaf_reg': 0.2999542912425356, 'one_hot_max_size': 100, 'auto_class_weights': 'SqrtBalanced'}. Best is trial 29 with value: 0.8678425816294796.\u001b[0m\n"
     ]
    },
    {
     "name": "stdout",
     "output_type": "stream",
     "text": [
      "Stopped by overfitting detector  (10 iterations wait)\n"
     ]
    },
    {
     "name": "stderr",
     "output_type": "stream",
     "text": [
      "\u001b[32m[I 2021-02-17 01:23:40,244]\u001b[0m Trial 37 finished with value: 0.860102292586526 and parameters: {'iterations': 100, 'learning_rate': 0.09819662809204062, 'random_strength': 10, 'bagging_temperature': 5, 'max_bin': 6, 'grow_policy': 'Depthwise', 'min_data_in_leaf': 2, 'max_depth': 5, 'l2_leaf_reg': 16.96570606441989, 'one_hot_max_size': 10, 'auto_class_weights': 'SqrtBalanced'}. Best is trial 29 with value: 0.8678425816294796.\u001b[0m\n",
      "\u001b[32m[I 2021-02-17 01:24:11,155]\u001b[0m Trial 38 finished with value: 0.8613987943400353 and parameters: {'iterations': 300, 'learning_rate': 0.04351625872521103, 'random_strength': 6, 'bagging_temperature': 7, 'max_bin': 4, 'grow_policy': 'SymmetricTree', 'min_data_in_leaf': 3, 'max_depth': 7, 'l2_leaf_reg': 0.050190944316327105, 'one_hot_max_size': 10, 'auto_class_weights': 'SqrtBalanced'}. Best is trial 29 with value: 0.8678425816294796.\u001b[0m\n"
     ]
    },
    {
     "name": "stdout",
     "output_type": "stream",
     "text": [
      "Stopped by overfitting detector  (10 iterations wait)\n"
     ]
    },
    {
     "name": "stderr",
     "output_type": "stream",
     "text": [
      "\u001b[32m[I 2021-02-17 01:24:15,230]\u001b[0m Trial 39 finished with value: 0.8626228201741094 and parameters: {'iterations': 100, 'learning_rate': 0.2874658409563674, 'random_strength': 8, 'bagging_temperature': 5, 'max_bin': 10, 'grow_policy': 'SymmetricTree', 'min_data_in_leaf': 5, 'max_depth': 4, 'l2_leaf_reg': 2.0117436612164323, 'one_hot_max_size': 500, 'auto_class_weights': 'SqrtBalanced'}. Best is trial 29 with value: 0.8678425816294796.\u001b[0m\n"
     ]
    },
    {
     "name": "stdout",
     "output_type": "stream",
     "text": [
      "Stopped by overfitting detector  (10 iterations wait)\n"
     ]
    },
    {
     "name": "stderr",
     "output_type": "stream",
     "text": [
      "\u001b[32m[I 2021-02-17 01:24:47,028]\u001b[0m Trial 40 finished with value: 0.8664808857607789 and parameters: {'iterations': 500, 'learning_rate': 0.057808600250280534, 'random_strength': 2, 'bagging_temperature': 3, 'max_bin': 20, 'grow_policy': 'SymmetricTree', 'min_data_in_leaf': 6, 'max_depth': 8, 'l2_leaf_reg': 32.05231185945637, 'one_hot_max_size': 12, 'auto_class_weights': 'SqrtBalanced'}. Best is trial 29 with value: 0.8678425816294796.\u001b[0m\n"
     ]
    },
    {
     "name": "stdout",
     "output_type": "stream",
     "text": [
      "Stopped by overfitting detector  (10 iterations wait)\n"
     ]
    },
    {
     "name": "stderr",
     "output_type": "stream",
     "text": [
      "\u001b[32m[I 2021-02-17 01:25:05,048]\u001b[0m Trial 41 finished with value: 0.8669707847344054 and parameters: {'iterations': 300, 'learning_rate': 0.06575788966724784, 'random_strength': 9, 'bagging_temperature': 6, 'max_bin': 6, 'grow_policy': 'SymmetricTree', 'min_data_in_leaf': 3, 'max_depth': 5, 'l2_leaf_reg': 12.612382300234481, 'one_hot_max_size': 1024, 'auto_class_weights': 'SqrtBalanced'}. Best is trial 29 with value: 0.8678425816294796.\u001b[0m\n",
      "\u001b[32m[I 2021-02-17 01:25:15,519]\u001b[0m Trial 42 finished with value: 0.8559329123945962 and parameters: {'iterations': 300, 'learning_rate': 0.08646516140561726, 'random_strength': 9, 'bagging_temperature': 6, 'max_bin': 6, 'grow_policy': 'SymmetricTree', 'min_data_in_leaf': 2, 'max_depth': 6, 'l2_leaf_reg': 6.224141167211693e-05, 'one_hot_max_size': 1024, 'auto_class_weights': 'SqrtBalanced'}. Best is trial 29 with value: 0.8678425816294796.\u001b[0m\n"
     ]
    },
    {
     "name": "stdout",
     "output_type": "stream",
     "text": [
      "Stopped by overfitting detector  (10 iterations wait)\n"
     ]
    },
    {
     "name": "stderr",
     "output_type": "stream",
     "text": [
      "\u001b[32m[I 2021-02-17 01:25:32,205]\u001b[0m Trial 43 finished with value: 0.8657036872924841 and parameters: {'iterations': 300, 'learning_rate': 0.06574071488565231, 'random_strength': 7, 'bagging_temperature': 7, 'max_bin': 6, 'grow_policy': 'SymmetricTree', 'min_data_in_leaf': 3, 'max_depth': 5, 'l2_leaf_reg': 4.991483373522689, 'one_hot_max_size': 1024, 'auto_class_weights': 'SqrtBalanced'}. Best is trial 29 with value: 0.8678425816294796.\u001b[0m\n"
     ]
    },
    {
     "name": "stdout",
     "output_type": "stream",
     "text": [
      "Stopped by overfitting detector  (10 iterations wait)\n"
     ]
    },
    {
     "name": "stderr",
     "output_type": "stream",
     "text": [
      "\u001b[32m[I 2021-02-17 01:26:13,627]\u001b[0m Trial 44 finished with value: 0.8662470254221912 and parameters: {'iterations': 1000, 'learning_rate': 0.040159802373041564, 'random_strength': 10, 'bagging_temperature': 4, 'max_bin': 6, 'grow_policy': 'SymmetricTree', 'min_data_in_leaf': 4, 'max_depth': 4, 'l2_leaf_reg': 27.169675005679508, 'one_hot_max_size': 1024, 'auto_class_weights': 'SqrtBalanced'}. Best is trial 29 with value: 0.8678425816294796.\u001b[0m\n"
     ]
    },
    {
     "name": "stdout",
     "output_type": "stream",
     "text": [
      "Stopped by overfitting detector  (10 iterations wait)\n"
     ]
    },
    {
     "name": "stderr",
     "output_type": "stream",
     "text": [
      "\u001b[32m[I 2021-02-17 01:26:24,899]\u001b[0m Trial 45 finished with value: 0.8656305113146493 and parameters: {'iterations': 300, 'learning_rate': 0.10749441242004769, 'random_strength': 1, 'bagging_temperature': 9, 'max_bin': 30, 'grow_policy': 'SymmetricTree', 'min_data_in_leaf': 1, 'max_depth': 5, 'l2_leaf_reg': 0.8618436335502659, 'one_hot_max_size': 100, 'auto_class_weights': 'SqrtBalanced'}. Best is trial 29 with value: 0.8678425816294796.\u001b[0m\n"
     ]
    },
    {
     "name": "stdout",
     "output_type": "stream",
     "text": [
      "Stopped by overfitting detector  (10 iterations wait)\n"
     ]
    },
    {
     "name": "stderr",
     "output_type": "stream",
     "text": [
      "\u001b[32m[I 2021-02-17 01:28:15,851]\u001b[0m Trial 46 finished with value: 0.8531606281496948 and parameters: {'iterations': 1200, 'learning_rate': 0.0016337710519915005, 'random_strength': 8, 'bagging_temperature': 6, 'max_bin': 6, 'grow_policy': 'Depthwise', 'min_data_in_leaf': 4, 'max_depth': 6, 'l2_leaf_reg': 16.87497059013893, 'one_hot_max_size': 1024, 'auto_class_weights': 'SqrtBalanced'}. Best is trial 29 with value: 0.8678425816294796.\u001b[0m\n",
      "\u001b[32m[I 2021-02-17 01:28:33,565]\u001b[0m Trial 47 finished with value: 0.8575190730336326 and parameters: {'iterations': 300, 'learning_rate': 0.026849174892958155, 'random_strength': 9, 'bagging_temperature': 4, 'max_bin': 10, 'grow_policy': 'SymmetricTree', 'min_data_in_leaf': 5, 'max_depth': 4, 'l2_leaf_reg': 4.7861759394234475, 'one_hot_max_size': 1024, 'auto_class_weights': 'SqrtBalanced'}. Best is trial 29 with value: 0.8678425816294796.\u001b[0m\n",
      "\u001b[32m[I 2021-02-17 01:29:03,448]\u001b[0m Trial 48 finished with value: 0.8661831297129355 and parameters: {'iterations': 300, 'learning_rate': 0.0483092253795715, 'random_strength': 10, 'bagging_temperature': 5, 'max_bin': 5, 'grow_policy': 'SymmetricTree', 'min_data_in_leaf': 2, 'max_depth': 7, 'l2_leaf_reg': 92.0737694176115, 'one_hot_max_size': 10, 'auto_class_weights': 'SqrtBalanced'}. Best is trial 29 with value: 0.8678425816294796.\u001b[0m\n",
      "\u001b[32m[I 2021-02-17 01:29:08,867]\u001b[0m Trial 49 finished with value: 0.8617732182712139 and parameters: {'iterations': 1000, 'learning_rate': 0.2457867258250544, 'random_strength': 6, 'bagging_temperature': 7, 'max_bin': 10, 'grow_policy': 'Lossguide', 'min_data_in_leaf': 6, 'max_depth': 3, 'l2_leaf_reg': 0.0002072843918850602, 'one_hot_max_size': 12, 'auto_class_weights': 'SqrtBalanced'}. Best is trial 29 with value: 0.8678425816294796.\u001b[0m\n"
     ]
    },
    {
     "name": "stdout",
     "output_type": "stream",
     "text": [
      "Stopped by overfitting detector  (10 iterations wait)\n"
     ]
    },
    {
     "name": "stderr",
     "output_type": "stream",
     "text": [
      "\u001b[32m[I 2021-02-17 01:29:20,439]\u001b[0m Trial 50 finished with value: 0.8629960013224526 and parameters: {'iterations': 1200, 'learning_rate': 0.09511859430997442, 'random_strength': 8, 'bagging_temperature': 8, 'max_bin': 8, 'grow_policy': 'SymmetricTree', 'min_data_in_leaf': 7, 'max_depth': 5, 'l2_leaf_reg': 0.3421045550335927, 'one_hot_max_size': 500, 'auto_class_weights': 'Balanced'}. Best is trial 29 with value: 0.8678425816294796.\u001b[0m\n"
     ]
    },
    {
     "name": "stdout",
     "output_type": "stream",
     "text": [
      "Stopped by overfitting detector  (10 iterations wait)\n"
     ]
    },
    {
     "name": "stderr",
     "output_type": "stream",
     "text": [
      "\u001b[32m[I 2021-02-17 01:29:39,472]\u001b[0m Trial 51 finished with value: 0.8668158112176615 and parameters: {'iterations': 300, 'learning_rate': 0.07062031273292821, 'random_strength': 9, 'bagging_temperature': 6, 'max_bin': 6, 'grow_policy': 'SymmetricTree', 'min_data_in_leaf': 3, 'max_depth': 6, 'l2_leaf_reg': 21.87454777612621, 'one_hot_max_size': 1024, 'auto_class_weights': 'SqrtBalanced'}. Best is trial 29 with value: 0.8678425816294796.\u001b[0m\n"
     ]
    },
    {
     "name": "stdout",
     "output_type": "stream",
     "text": [
      "Stopped by overfitting detector  (10 iterations wait)\n"
     ]
    },
    {
     "name": "stderr",
     "output_type": "stream",
     "text": [
      "\u001b[32m[I 2021-02-17 01:29:55,660]\u001b[0m Trial 52 finished with value: 0.8664607421859725 and parameters: {'iterations': 300, 'learning_rate': 0.06944652884369705, 'random_strength': 9, 'bagging_temperature': 6, 'max_bin': 6, 'grow_policy': 'SymmetricTree', 'min_data_in_leaf': 3, 'max_depth': 6, 'l2_leaf_reg': 28.59467519636285, 'one_hot_max_size': 1024, 'auto_class_weights': 'SqrtBalanced'}. Best is trial 29 with value: 0.8678425816294796.\u001b[0m\n"
     ]
    },
    {
     "name": "stdout",
     "output_type": "stream",
     "text": [
      "Stopped by overfitting detector  (10 iterations wait)\n"
     ]
    },
    {
     "name": "stderr",
     "output_type": "stream",
     "text": [
      "\u001b[32m[I 2021-02-17 01:30:07,682]\u001b[0m Trial 53 finished with value: 0.8641865640283596 and parameters: {'iterations': 300, 'learning_rate': 0.08592864607113056, 'random_strength': 8, 'bagging_temperature': 5, 'max_bin': 6, 'grow_policy': 'SymmetricTree', 'min_data_in_leaf': 4, 'max_depth': 7, 'l2_leaf_reg': 1.9580074436866481, 'one_hot_max_size': 1024, 'auto_class_weights': 'SqrtBalanced'}. Best is trial 29 with value: 0.8678425816294796.\u001b[0m\n"
     ]
    },
    {
     "name": "stdout",
     "output_type": "stream",
     "text": [
      "Stopped by overfitting detector  (10 iterations wait)\n"
     ]
    },
    {
     "name": "stderr",
     "output_type": "stream",
     "text": [
      "\u001b[32m[I 2021-02-17 01:30:35,096]\u001b[0m Trial 54 finished with value: 0.8656570707542347 and parameters: {'iterations': 300, 'learning_rate': 0.052775160268300654, 'random_strength': 9, 'bagging_temperature': 8, 'max_bin': 6, 'grow_policy': 'SymmetricTree', 'min_data_in_leaf': 2, 'max_depth': 6, 'l2_leaf_reg': 88.33138628560816, 'one_hot_max_size': 5, 'auto_class_weights': 'SqrtBalanced'}. Best is trial 29 with value: 0.8678425816294796.\u001b[0m\n",
      "\u001b[32m[I 2021-02-17 01:30:45,751]\u001b[0m Trial 55 finished with value: 0.8635528771721864 and parameters: {'iterations': 1500, 'learning_rate': 0.1128658933245675, 'random_strength': 7, 'bagging_temperature': 7, 'max_bin': 6, 'grow_policy': 'SymmetricTree', 'min_data_in_leaf': 3, 'max_depth': 8, 'l2_leaf_reg': 6.90888861613466, 'one_hot_max_size': 1024, 'auto_class_weights': 'SqrtBalanced'}. Best is trial 29 with value: 0.8678425816294796.\u001b[0m\n"
     ]
    },
    {
     "name": "stdout",
     "output_type": "stream",
     "text": [
      "Stopped by overfitting detector  (10 iterations wait)\n"
     ]
    },
    {
     "name": "stderr",
     "output_type": "stream",
     "text": [
      "\u001b[32m[I 2021-02-17 01:31:12,799]\u001b[0m Trial 56 finished with value: 0.8669801065862369 and parameters: {'iterations': 500, 'learning_rate': 0.07040880033205815, 'random_strength': 10, 'bagging_temperature': 6, 'max_bin': 4, 'grow_policy': 'Lossguide', 'min_data_in_leaf': 1, 'max_depth': 7, 'l2_leaf_reg': 27.638497307480904, 'one_hot_max_size': 10, 'auto_class_weights': 'SqrtBalanced'}. Best is trial 29 with value: 0.8678425816294796.\u001b[0m\n"
     ]
    },
    {
     "name": "stdout",
     "output_type": "stream",
     "text": [
      "Stopped by overfitting detector  (10 iterations wait)\n"
     ]
    },
    {
     "name": "stderr",
     "output_type": "stream",
     "text": [
      "\u001b[32m[I 2021-02-17 01:31:41,710]\u001b[0m Trial 57 finished with value: 0.8663983142530369 and parameters: {'iterations': 500, 'learning_rate': 0.0749542552743055, 'random_strength': 10, 'bagging_temperature': 6, 'max_bin': 4, 'grow_policy': 'Lossguide', 'min_data_in_leaf': 1, 'max_depth': 8, 'l2_leaf_reg': 95.62573391802724, 'one_hot_max_size': 10, 'auto_class_weights': 'SqrtBalanced'}. Best is trial 29 with value: 0.8678425816294796.\u001b[0m\n"
     ]
    },
    {
     "name": "stdout",
     "output_type": "stream",
     "text": [
      "Stopped by overfitting detector  (10 iterations wait)\n"
     ]
    },
    {
     "name": "stderr",
     "output_type": "stream",
     "text": [
      "\u001b[32m[I 2021-02-17 01:32:20,866]\u001b[0m Trial 58 finished with value: 0.867449205018185 and parameters: {'iterations': 500, 'learning_rate': 0.03933729305804938, 'random_strength': 5, 'bagging_temperature': 7, 'max_bin': 4, 'grow_policy': 'Lossguide', 'min_data_in_leaf': 7, 'max_depth': 7, 'l2_leaf_reg': 37.047196469857376, 'one_hot_max_size': 10, 'auto_class_weights': 'Balanced'}. Best is trial 29 with value: 0.8678425816294796.\u001b[0m\n"
     ]
    },
    {
     "name": "stdout",
     "output_type": "stream",
     "text": [
      "Stopped by overfitting detector  (10 iterations wait)\n"
     ]
    },
    {
     "name": "stderr",
     "output_type": "stream",
     "text": [
      "\u001b[32m[I 2021-02-17 01:33:04,616]\u001b[0m Trial 59 finished with value: 0.8673183022875552 and parameters: {'iterations': 500, 'learning_rate': 0.039286990898770816, 'random_strength': 5, 'bagging_temperature': 8, 'max_bin': 4, 'grow_policy': 'Lossguide', 'min_data_in_leaf': 7, 'max_depth': 7, 'l2_leaf_reg': 38.201855811730915, 'one_hot_max_size': 10, 'auto_class_weights': 'Balanced'}. Best is trial 29 with value: 0.8678425816294796.\u001b[0m\n"
     ]
    },
    {
     "name": "stdout",
     "output_type": "stream",
     "text": [
      "Stopped by overfitting detector  (10 iterations wait)\n"
     ]
    },
    {
     "name": "stderr",
     "output_type": "stream",
     "text": [
      "\u001b[32m[I 2021-02-17 01:33:52,639]\u001b[0m Trial 60 finished with value: 0.8668460823761241 and parameters: {'iterations': 500, 'learning_rate': 0.03548616072871777, 'random_strength': 5, 'bagging_temperature': 9, 'max_bin': 4, 'grow_policy': 'Lossguide', 'min_data_in_leaf': 7, 'max_depth': 7, 'l2_leaf_reg': 36.48309499228472, 'one_hot_max_size': 10, 'auto_class_weights': 'Balanced'}. Best is trial 29 with value: 0.8678425816294796.\u001b[0m\n"
     ]
    },
    {
     "name": "stdout",
     "output_type": "stream",
     "text": [
      "Stopped by overfitting detector  (10 iterations wait)\n"
     ]
    },
    {
     "name": "stderr",
     "output_type": "stream",
     "text": [
      "\u001b[32m[I 2021-02-17 01:34:48,020]\u001b[0m Trial 61 finished with value: 0.8611874556520476 and parameters: {'iterations': 500, 'learning_rate': 0.016323850939847694, 'random_strength': 4, 'bagging_temperature': 8, 'max_bin': 4, 'grow_policy': 'Lossguide', 'min_data_in_leaf': 7, 'max_depth': 7, 'l2_leaf_reg': 6.986172387501033e-08, 'one_hot_max_size': 10, 'auto_class_weights': 'Balanced'}. Best is trial 29 with value: 0.8678425816294796.\u001b[0m\n",
      "\u001b[32m[I 2021-02-17 01:35:28,094]\u001b[0m Trial 62 finished with value: 0.8665936191821061 and parameters: {'iterations': 500, 'learning_rate': 0.04539205557019281, 'random_strength': 5, 'bagging_temperature': 7, 'max_bin': 4, 'grow_policy': 'Lossguide', 'min_data_in_leaf': 8, 'max_depth': 8, 'l2_leaf_reg': 97.23599341407251, 'one_hot_max_size': 10, 'auto_class_weights': 'Balanced'}. Best is trial 29 with value: 0.8678425816294796.\u001b[0m\n"
     ]
    },
    {
     "name": "stdout",
     "output_type": "stream",
     "text": [
      "Stopped by overfitting detector  (10 iterations wait)\n"
     ]
    },
    {
     "name": "stderr",
     "output_type": "stream",
     "text": [
      "\u001b[32m[I 2021-02-17 01:36:21,392]\u001b[0m Trial 63 finished with value: 0.8665261657467749 and parameters: {'iterations': 500, 'learning_rate': 0.02530064962087815, 'random_strength': 4, 'bagging_temperature': 10, 'max_bin': 4, 'grow_policy': 'Lossguide', 'min_data_in_leaf': 8, 'max_depth': 7, 'l2_leaf_reg': 7.5965752847674475, 'one_hot_max_size': 10, 'auto_class_weights': 'Balanced'}. Best is trial 29 with value: 0.8678425816294796.\u001b[0m\n",
      "\u001b[32m[I 2021-02-17 01:36:47,020]\u001b[0m Trial 64 finished with value: 0.8666619586728765 and parameters: {'iterations': 500, 'learning_rate': 0.0833181566870092, 'random_strength': 5, 'bagging_temperature': 8, 'max_bin': 4, 'grow_policy': 'Lossguide', 'min_data_in_leaf': 7, 'max_depth': 8, 'l2_leaf_reg': 53.03243237650822, 'one_hot_max_size': 10, 'auto_class_weights': 'Balanced'}. Best is trial 29 with value: 0.8678425816294796.\u001b[0m\n"
     ]
    },
    {
     "name": "stdout",
     "output_type": "stream",
     "text": [
      "Stopped by overfitting detector  (10 iterations wait)\n"
     ]
    },
    {
     "name": "stderr",
     "output_type": "stream",
     "text": [
      "\u001b[32m[I 2021-02-17 01:37:32,972]\u001b[0m Trial 65 finished with value: 0.86674779076699 and parameters: {'iterations': 500, 'learning_rate': 0.03746715273128324, 'random_strength': 5, 'bagging_temperature': 7, 'max_bin': 4, 'grow_policy': 'Lossguide', 'min_data_in_leaf': 6, 'max_depth': 7, 'l2_leaf_reg': 2.489186839417331, 'one_hot_max_size': 10, 'auto_class_weights': 'Balanced'}. Best is trial 29 with value: 0.8678425816294796.\u001b[0m\n"
     ]
    },
    {
     "name": "stdout",
     "output_type": "stream",
     "text": [
      "Stopped by overfitting detector  (10 iterations wait)\n"
     ]
    },
    {
     "name": "stderr",
     "output_type": "stream",
     "text": [
      "\u001b[32m[I 2021-02-17 01:37:52,813]\u001b[0m Trial 66 finished with value: 0.8658020352529542 and parameters: {'iterations': 500, 'learning_rate': 0.09382508464078353, 'random_strength': 4, 'bagging_temperature': 8, 'max_bin': 4, 'grow_policy': 'Lossguide', 'min_data_in_leaf': 7, 'max_depth': 8, 'l2_leaf_reg': 43.552771859523325, 'one_hot_max_size': 10, 'auto_class_weights': 'Balanced'}. Best is trial 29 with value: 0.8678425816294796.\u001b[0m\n"
     ]
    },
    {
     "name": "stdout",
     "output_type": "stream",
     "text": [
      "Stopped by overfitting detector  (10 iterations wait)\n"
     ]
    },
    {
     "name": "stderr",
     "output_type": "stream",
     "text": [
      "\u001b[32m[I 2021-02-17 01:40:40,790]\u001b[0m Trial 67 finished with value: 0.86468636497787 and parameters: {'iterations': 1500, 'learning_rate': 0.006502367236263101, 'random_strength': 3, 'bagging_temperature': 9, 'max_bin': 10, 'grow_policy': 'Lossguide', 'min_data_in_leaf': 8, 'max_depth': 9, 'l2_leaf_reg': 0.7955229093286997, 'one_hot_max_size': 10, 'auto_class_weights': 'Balanced'}. Best is trial 29 with value: 0.8678425816294796.\u001b[0m\n",
      "\u001b[32m[I 2021-02-17 01:41:02,367]\u001b[0m Trial 68 finished with value: 0.8622102816453536 and parameters: {'iterations': 200, 'learning_rate': 0.05218725775094241, 'random_strength': 6, 'bagging_temperature': 7, 'max_bin': 4, 'grow_policy': 'Lossguide', 'min_data_in_leaf': 8, 'max_depth': 9, 'l2_leaf_reg': 8.363933861372319, 'one_hot_max_size': 10, 'auto_class_weights': 'Balanced'}. Best is trial 29 with value: 0.8678425816294796.\u001b[0m\n",
      "\u001b[32m[I 2021-02-17 01:41:25,705]\u001b[0m Trial 69 finished with value: 0.8638070728747298 and parameters: {'iterations': 500, 'learning_rate': 0.06280465408667814, 'random_strength': 4, 'bagging_temperature': 6, 'max_bin': 10, 'grow_policy': 'Lossguide', 'min_data_in_leaf': 6, 'max_depth': 7, 'l2_leaf_reg': 0.107087351365461, 'one_hot_max_size': 10, 'auto_class_weights': 'Balanced'}. Best is trial 29 with value: 0.8678425816294796.\u001b[0m\n"
     ]
    },
    {
     "name": "stdout",
     "output_type": "stream",
     "text": [
      "Stopped by overfitting detector  (10 iterations wait)\n"
     ]
    },
    {
     "name": "stderr",
     "output_type": "stream",
     "text": [
      "\u001b[32m[I 2021-02-17 01:41:43,145]\u001b[0m Trial 70 finished with value: 0.865365069068625 and parameters: {'iterations': 1500, 'learning_rate': 0.1060736968948093, 'random_strength': 6, 'bagging_temperature': 7, 'max_bin': 4, 'grow_policy': 'Lossguide', 'min_data_in_leaf': 6, 'max_depth': 8, 'l2_leaf_reg': 16.451293586736217, 'one_hot_max_size': 10, 'auto_class_weights': 'Balanced'}. Best is trial 29 with value: 0.8678425816294796.\u001b[0m\n"
     ]
    },
    {
     "name": "stdout",
     "output_type": "stream",
     "text": [
      "Stopped by overfitting detector  (10 iterations wait)\n"
     ]
    },
    {
     "name": "stderr",
     "output_type": "stream",
     "text": [
      "\u001b[32m[I 2021-02-17 01:42:30,052]\u001b[0m Trial 71 finished with value: 0.8674237822222797 and parameters: {'iterations': 500, 'learning_rate': 0.03529417580748597, 'random_strength': 5, 'bagging_temperature': 9, 'max_bin': 4, 'grow_policy': 'Lossguide', 'min_data_in_leaf': 7, 'max_depth': 7, 'l2_leaf_reg': 40.587072692328164, 'one_hot_max_size': 10, 'auto_class_weights': 'Balanced'}. Best is trial 29 with value: 0.8678425816294796.\u001b[0m\n"
     ]
    },
    {
     "name": "stdout",
     "output_type": "stream",
     "text": [
      "Stopped by overfitting detector  (10 iterations wait)\n"
     ]
    },
    {
     "name": "stderr",
     "output_type": "stream",
     "text": [
      "\u001b[32m[I 2021-02-17 01:43:24,471]\u001b[0m Trial 72 finished with value: 0.8650571226619057 and parameters: {'iterations': 500, 'learning_rate': 0.023709857025305134, 'random_strength': 5, 'bagging_temperature': 9, 'max_bin': 4, 'grow_policy': 'Lossguide', 'min_data_in_leaf': 7, 'max_depth': 7, 'l2_leaf_reg': 98.30702337599311, 'one_hot_max_size': 10, 'auto_class_weights': 'Balanced'}. Best is trial 29 with value: 0.8678425816294796.\u001b[0m\n",
      "\u001b[32m[I 2021-02-17 01:44:03,373]\u001b[0m Trial 73 finished with value: 0.8676217390224592 and parameters: {'iterations': 500, 'learning_rate': 0.04491337085598132, 'random_strength': 5, 'bagging_temperature': 10, 'max_bin': 4, 'grow_policy': 'Lossguide', 'min_data_in_leaf': 7, 'max_depth': 7, 'l2_leaf_reg': 46.74564109440635, 'one_hot_max_size': 10, 'auto_class_weights': 'Balanced'}. Best is trial 29 with value: 0.8678425816294796.\u001b[0m\n"
     ]
    },
    {
     "name": "stdout",
     "output_type": "stream",
     "text": [
      "Stopped by overfitting detector  (10 iterations wait)\n"
     ]
    },
    {
     "name": "stderr",
     "output_type": "stream",
     "text": [
      "\u001b[32m[I 2021-02-17 01:44:46,852]\u001b[0m Trial 74 finished with value: 0.8667797625609929 and parameters: {'iterations': 500, 'learning_rate': 0.03558468864586682, 'random_strength': 5, 'bagging_temperature': 10, 'max_bin': 4, 'grow_policy': 'Lossguide', 'min_data_in_leaf': 7, 'max_depth': 7, 'l2_leaf_reg': 40.60942754942078, 'one_hot_max_size': 10, 'auto_class_weights': 'Balanced'}. Best is trial 29 with value: 0.8678425816294796.\u001b[0m\n"
     ]
    },
    {
     "name": "stdout",
     "output_type": "stream",
     "text": [
      "Stopped by overfitting detector  (10 iterations wait)\n"
     ]
    },
    {
     "name": "stderr",
     "output_type": "stream",
     "text": [
      "\u001b[32m[I 2021-02-17 01:45:41,617]\u001b[0m Trial 75 finished with value: 0.8593637412211121 and parameters: {'iterations': 500, 'learning_rate': 0.010391092449489485, 'random_strength': 6, 'bagging_temperature': 10, 'max_bin': 4, 'grow_policy': 'Lossguide', 'min_data_in_leaf': 7, 'max_depth': 7, 'l2_leaf_reg': 4.047290427067444, 'one_hot_max_size': 10, 'auto_class_weights': 'Balanced'}. Best is trial 29 with value: 0.8678425816294796.\u001b[0m\n",
      "\u001b[32m[I 2021-02-17 01:46:21,234]\u001b[0m Trial 76 finished with value: 0.8671362681777449 and parameters: {'iterations': 500, 'learning_rate': 0.04086994270605372, 'random_strength': 4, 'bagging_temperature': 8, 'max_bin': 4, 'grow_policy': 'Lossguide', 'min_data_in_leaf': 8, 'max_depth': 6, 'l2_leaf_reg': 59.493710690805, 'one_hot_max_size': 10, 'auto_class_weights': 'Balanced'}. Best is trial 29 with value: 0.8678425816294796.\u001b[0m\n"
     ]
    },
    {
     "name": "stdout",
     "output_type": "stream",
     "text": [
      "Stopped by overfitting detector  (10 iterations wait)\n"
     ]
    },
    {
     "name": "stderr",
     "output_type": "stream",
     "text": [
      "\u001b[32m[I 2021-02-17 01:46:55,124]\u001b[0m Trial 77 finished with value: 0.8667472183625471 and parameters: {'iterations': 500, 'learning_rate': 0.04427886189316924, 'random_strength': 4, 'bagging_temperature': 9, 'max_bin': 4, 'grow_policy': 'Lossguide', 'min_data_in_leaf': 9, 'max_depth': 6, 'l2_leaf_reg': 23.5280186283757, 'one_hot_max_size': 10, 'auto_class_weights': 'Balanced'}. Best is trial 29 with value: 0.8678425816294796.\u001b[0m\n"
     ]
    },
    {
     "name": "stdout",
     "output_type": "stream",
     "text": [
      "Stopped by overfitting detector  (10 iterations wait)\n"
     ]
    },
    {
     "name": "stderr",
     "output_type": "stream",
     "text": [
      "\u001b[32m[I 2021-02-17 01:47:53,169]\u001b[0m Trial 78 finished with value: 0.8669730181592294 and parameters: {'iterations': 500, 'learning_rate': 0.02932628325544484, 'random_strength': 5, 'bagging_temperature': 8, 'max_bin': 4, 'grow_policy': 'Lossguide', 'min_data_in_leaf': 8, 'max_depth': 7, 'l2_leaf_reg': 56.78883345071473, 'one_hot_max_size': 10, 'auto_class_weights': 'Balanced'}. Best is trial 29 with value: 0.8678425816294796.\u001b[0m\n",
      "\u001b[32m[I 2021-02-17 01:48:44,801]\u001b[0m Trial 79 finished with value: 0.8650717377014763 and parameters: {'iterations': 500, 'learning_rate': 0.019586865455170827, 'random_strength': 3, 'bagging_temperature': 10, 'max_bin': 4, 'grow_policy': 'Lossguide', 'min_data_in_leaf': 9, 'max_depth': 6, 'l2_leaf_reg': 7.58242311844949, 'one_hot_max_size': 10, 'auto_class_weights': 'Balanced'}. Best is trial 29 with value: 0.8678425816294796.\u001b[0m\n",
      "\u001b[32m[I 2021-02-17 01:49:10,066]\u001b[0m Trial 80 finished with value: 0.8659094227754416 and parameters: {'iterations': 500, 'learning_rate': 0.0498020849674778, 'random_strength': 2, 'bagging_temperature': 9, 'max_bin': 4, 'grow_policy': 'Lossguide', 'min_data_in_leaf': 8, 'max_depth': 6, 'l2_leaf_reg': 1.4094201395240415, 'one_hot_max_size': 10, 'auto_class_weights': 'Balanced'}. Best is trial 29 with value: 0.8678425816294796.\u001b[0m\n"
     ]
    },
    {
     "name": "stdout",
     "output_type": "stream",
     "text": [
      "Stopped by overfitting detector  (10 iterations wait)\n"
     ]
    },
    {
     "name": "stderr",
     "output_type": "stream",
     "text": [
      "\u001b[32m[I 2021-02-17 01:49:41,440]\u001b[0m Trial 81 finished with value: 0.8675618102454917 and parameters: {'iterations': 500, 'learning_rate': 0.05888777250291839, 'random_strength': 5, 'bagging_temperature': 8, 'max_bin': 10, 'grow_policy': 'Lossguide', 'min_data_in_leaf': 7, 'max_depth': 7, 'l2_leaf_reg': 97.22765815034077, 'one_hot_max_size': 10, 'auto_class_weights': 'Balanced'}. Best is trial 29 with value: 0.8678425816294796.\u001b[0m\n"
     ]
    },
    {
     "name": "stdout",
     "output_type": "stream",
     "text": [
      "Stopped by overfitting detector  (10 iterations wait)\n"
     ]
    },
    {
     "name": "stderr",
     "output_type": "stream",
     "text": [
      "\u001b[32m[I 2021-02-17 01:50:13,916]\u001b[0m Trial 82 finished with value: 0.8675683248623012 and parameters: {'iterations': 500, 'learning_rate': 0.05779094756662237, 'random_strength': 5, 'bagging_temperature': 8, 'max_bin': 20, 'grow_policy': 'Lossguide', 'min_data_in_leaf': 6, 'max_depth': 7, 'l2_leaf_reg': 96.88458080208805, 'one_hot_max_size': 10, 'auto_class_weights': 'Balanced'}. Best is trial 29 with value: 0.8678425816294796.\u001b[0m\n"
     ]
    },
    {
     "name": "stdout",
     "output_type": "stream",
     "text": [
      "Stopped by overfitting detector  (10 iterations wait)\n"
     ]
    },
    {
     "name": "stderr",
     "output_type": "stream",
     "text": [
      "\u001b[32m[I 2021-02-17 01:50:44,369]\u001b[0m Trial 83 finished with value: 0.8666454182905474 and parameters: {'iterations': 500, 'learning_rate': 0.05910590568694325, 'random_strength': 5, 'bagging_temperature': 8, 'max_bin': 20, 'grow_policy': 'Lossguide', 'min_data_in_leaf': 6, 'max_depth': 7, 'l2_leaf_reg': 64.89190932348808, 'one_hot_max_size': 10, 'auto_class_weights': 'Balanced'}. Best is trial 29 with value: 0.8678425816294796.\u001b[0m\n"
     ]
    },
    {
     "name": "stdout",
     "output_type": "stream",
     "text": [
      "Stopped by overfitting detector  (10 iterations wait)\n"
     ]
    },
    {
     "name": "stderr",
     "output_type": "stream",
     "text": [
      "\u001b[32m[I 2021-02-17 01:51:26,747]\u001b[0m Trial 84 finished with value: 0.867261097195615 and parameters: {'iterations': 500, 'learning_rate': 0.03642422569895594, 'random_strength': 4, 'bagging_temperature': 8, 'max_bin': 20, 'grow_policy': 'Lossguide', 'min_data_in_leaf': 7, 'max_depth': 6, 'l2_leaf_reg': 91.24137613598603, 'one_hot_max_size': 100, 'auto_class_weights': 'Balanced'}. Best is trial 29 with value: 0.8678425816294796.\u001b[0m\n",
      "\u001b[32m[I 2021-02-17 01:51:35,360]\u001b[0m Trial 85 finished with value: 0.8527332808427357 and parameters: {'iterations': 100, 'learning_rate': 0.03182801605328976, 'random_strength': 6, 'bagging_temperature': 9, 'max_bin': 20, 'grow_policy': 'Lossguide', 'min_data_in_leaf': 7, 'max_depth': 7, 'l2_leaf_reg': 1.7287857312718e-06, 'one_hot_max_size': 100, 'auto_class_weights': 'Balanced'}. Best is trial 29 with value: 0.8678425816294796.\u001b[0m\n",
      "\u001b[32m[I 2021-02-17 01:52:00,940]\u001b[0m Trial 86 finished with value: 0.8662952075744158 and parameters: {'iterations': 500, 'learning_rate': 0.05151359542693153, 'random_strength': 5, 'bagging_temperature': 9, 'max_bin': 20, 'grow_policy': 'Lossguide', 'min_data_in_leaf': 6, 'max_depth': 7, 'l2_leaf_reg': 13.96803463688055, 'one_hot_max_size': 100, 'auto_class_weights': 'Balanced'}. Best is trial 29 with value: 0.8678425816294796.\u001b[0m\n"
     ]
    },
    {
     "name": "stdout",
     "output_type": "stream",
     "text": [
      "Stopped by overfitting detector  (10 iterations wait)\n"
     ]
    },
    {
     "name": "stderr",
     "output_type": "stream",
     "text": [
      "\u001b[32m[I 2021-02-17 01:52:44,421]\u001b[0m Trial 87 finished with value: 0.8536333243214228 and parameters: {'iterations': 500, 'learning_rate': 0.005587251493407559, 'random_strength': 6, 'bagging_temperature': 8, 'max_bin': 10, 'grow_policy': 'Lossguide', 'min_data_in_leaf': 7, 'max_depth': 6, 'l2_leaf_reg': 95.20029440763818, 'one_hot_max_size': 100, 'auto_class_weights': 'Balanced'}. Best is trial 29 with value: 0.8678425816294796.\u001b[0m\n",
      "\u001b[32m[I 2021-02-17 01:53:00,321]\u001b[0m Trial 88 finished with value: 0.8596507638523256 and parameters: {'iterations': 500, 'learning_rate': 0.07815821494370423, 'random_strength': 5, 'bagging_temperature': 8, 'max_bin': 20, 'grow_policy': 'Lossguide', 'min_data_in_leaf': 5, 'max_depth': 8, 'l2_leaf_reg': 0.0051269121064137675, 'one_hot_max_size': 500, 'auto_class_weights': 'Balanced'}. Best is trial 29 with value: 0.8678425816294796.\u001b[0m\n"
     ]
    },
    {
     "name": "stdout",
     "output_type": "stream",
     "text": [
      "Stopped by overfitting detector  (10 iterations wait)\n"
     ]
    },
    {
     "name": "stderr",
     "output_type": "stream",
     "text": [
      "\u001b[32m[I 2021-02-17 01:53:09,966]\u001b[0m Trial 89 finished with value: 0.8633970617957111 and parameters: {'iterations': 500, 'learning_rate': 0.1590889669146761, 'random_strength': 4, 'bagging_temperature': 8, 'max_bin': 20, 'grow_policy': 'Depthwise', 'min_data_in_leaf': 7, 'max_depth': 7, 'l2_leaf_reg': 25.78282884239321, 'one_hot_max_size': 100, 'auto_class_weights': 'Balanced'}. Best is trial 29 with value: 0.8678425816294796.\u001b[0m\n"
     ]
    },
    {
     "name": "stdout",
     "output_type": "stream",
     "text": [
      "Stopped by overfitting detector  (10 iterations wait)\n"
     ]
    },
    {
     "name": "stderr",
     "output_type": "stream",
     "text": [
      "\u001b[32m[I 2021-02-17 01:53:19,069]\u001b[0m Trial 90 finished with value: 0.8646346311815012 and parameters: {'iterations': 1000, 'learning_rate': 0.19380306466196903, 'random_strength': 5, 'bagging_temperature': 9, 'max_bin': 20, 'grow_policy': 'Lossguide', 'min_data_in_leaf': 6, 'max_depth': 6, 'l2_leaf_reg': 39.748623101737444, 'one_hot_max_size': 12, 'auto_class_weights': 'Balanced'}. Best is trial 29 with value: 0.8678425816294796.\u001b[0m\n"
     ]
    },
    {
     "name": "stdout",
     "output_type": "stream",
     "text": [
      "Stopped by overfitting detector  (10 iterations wait)\n"
     ]
    },
    {
     "name": "stderr",
     "output_type": "stream",
     "text": [
      "\u001b[32m[I 2021-02-17 01:54:05,047]\u001b[0m Trial 91 finished with value: 0.8672613105882643 and parameters: {'iterations': 500, 'learning_rate': 0.04159795215874046, 'random_strength': 4, 'bagging_temperature': 8, 'max_bin': 5, 'grow_policy': 'Lossguide', 'min_data_in_leaf': 8, 'max_depth': 6, 'l2_leaf_reg': 50.824687485542164, 'one_hot_max_size': 10, 'auto_class_weights': 'Balanced'}. Best is trial 29 with value: 0.8678425816294796.\u001b[0m\n"
     ]
    },
    {
     "name": "stdout",
     "output_type": "stream",
     "text": [
      "Stopped by overfitting detector  (10 iterations wait)\n"
     ]
    },
    {
     "name": "stderr",
     "output_type": "stream",
     "text": [
      "\u001b[32m[I 2021-02-17 01:54:32,663]\u001b[0m Trial 92 finished with value: 0.8679538793376752 and parameters: {'iterations': 500, 'learning_rate': 0.05745075659543725, 'random_strength': 4, 'bagging_temperature': 8, 'max_bin': 5, 'grow_policy': 'Lossguide', 'min_data_in_leaf': 7, 'max_depth': 6, 'l2_leaf_reg': 11.323094517862078, 'one_hot_max_size': 10, 'auto_class_weights': 'Balanced'}. Best is trial 92 with value: 0.8679538793376752.\u001b[0m\n"
     ]
    },
    {
     "name": "stdout",
     "output_type": "stream",
     "text": [
      "Stopped by overfitting detector  (10 iterations wait)\n"
     ]
    },
    {
     "name": "stderr",
     "output_type": "stream",
     "text": [
      "\u001b[32m[I 2021-02-17 01:55:03,101]\u001b[0m Trial 93 finished with value: 0.8666428357874487 and parameters: {'iterations': 500, 'learning_rate': 0.05578533217452494, 'random_strength': 4, 'bagging_temperature': 7, 'max_bin': 5, 'grow_policy': 'Lossguide', 'min_data_in_leaf': 8, 'max_depth': 7, 'l2_leaf_reg': 10.120301361598623, 'one_hot_max_size': 10, 'auto_class_weights': 'Balanced'}. Best is trial 92 with value: 0.8679538793376752.\u001b[0m\n"
     ]
    },
    {
     "name": "stdout",
     "output_type": "stream",
     "text": [
      "Stopped by overfitting detector  (10 iterations wait)\n"
     ]
    },
    {
     "name": "stderr",
     "output_type": "stream",
     "text": [
      "\u001b[32m[I 2021-02-17 01:55:43,932]\u001b[0m Trial 94 finished with value: 0.8670971048751233 and parameters: {'iterations': 500, 'learning_rate': 0.04405810361555019, 'random_strength': 5, 'bagging_temperature': 8, 'max_bin': 5, 'grow_policy': 'Lossguide', 'min_data_in_leaf': 7, 'max_depth': 6, 'l2_leaf_reg': 5.5094781229035705, 'one_hot_max_size': 10, 'auto_class_weights': 'Balanced'}. Best is trial 92 with value: 0.8679538793376752.\u001b[0m\n"
     ]
    },
    {
     "name": "stdout",
     "output_type": "stream",
     "text": [
      "Stopped by overfitting detector  (10 iterations wait)\n"
     ]
    },
    {
     "name": "stderr",
     "output_type": "stream",
     "text": [
      "\u001b[32m[I 2021-02-17 01:56:02,921]\u001b[0m Trial 95 finished with value: 0.8658559183114605 and parameters: {'iterations': 200, 'learning_rate': 0.06280579178193019, 'random_strength': 3, 'bagging_temperature': 10, 'max_bin': 5, 'grow_policy': 'Lossguide', 'min_data_in_leaf': 6, 'max_depth': 5, 'l2_leaf_reg': 18.3323690397114, 'one_hot_max_size': 10, 'auto_class_weights': 'Balanced'}. Best is trial 92 with value: 0.8679538793376752.\u001b[0m\n",
      "\u001b[32m[I 2021-02-17 01:57:09,999]\u001b[0m Trial 96 finished with value: 0.8669981506343409 and parameters: {'iterations': 1200, 'learning_rate': 0.023526954910059936, 'random_strength': 5, 'bagging_temperature': 9, 'max_bin': 5, 'grow_policy': 'Lossguide', 'min_data_in_leaf': 7, 'max_depth': 7, 'l2_leaf_reg': 3.4499080041144694, 'one_hot_max_size': 10, 'auto_class_weights': 'Balanced'}. Best is trial 92 with value: 0.8679538793376752.\u001b[0m\n"
     ]
    },
    {
     "name": "stdout",
     "output_type": "stream",
     "text": [
      "Stopped by overfitting detector  (10 iterations wait)\n"
     ]
    },
    {
     "name": "stderr",
     "output_type": "stream",
     "text": [
      "\u001b[32m[I 2021-02-17 01:57:51,360]\u001b[0m Trial 97 finished with value: 0.8675828937703939 and parameters: {'iterations': 500, 'learning_rate': 0.04764629733652711, 'random_strength': 6, 'bagging_temperature': 8, 'max_bin': 5, 'grow_policy': 'Lossguide', 'min_data_in_leaf': 8, 'max_depth': 8, 'l2_leaf_reg': 34.66747574081746, 'one_hot_max_size': 10, 'auto_class_weights': 'Balanced'}. Best is trial 92 with value: 0.8679538793376752.\u001b[0m\n"
     ]
    },
    {
     "name": "stdout",
     "output_type": "stream",
     "text": [
      "Stopped by overfitting detector  (10 iterations wait)\n"
     ]
    },
    {
     "name": "stderr",
     "output_type": "stream",
     "text": [
      "\u001b[32m[I 2021-02-17 01:58:14,173]\u001b[0m Trial 98 finished with value: 0.8654133560338433 and parameters: {'iterations': 500, 'learning_rate': 0.07884167458539679, 'random_strength': 6, 'bagging_temperature': 9, 'max_bin': 30, 'grow_policy': 'Lossguide', 'min_data_in_leaf': 6, 'max_depth': 8, 'l2_leaf_reg': 11.606932663595112, 'one_hot_max_size': 10, 'auto_class_weights': 'Balanced'}. Best is trial 92 with value: 0.8679538793376752.\u001b[0m\n"
     ]
    },
    {
     "name": "stdout",
     "output_type": "stream",
     "text": [
      "Stopped by overfitting detector  (10 iterations wait)\n"
     ]
    },
    {
     "name": "stderr",
     "output_type": "stream",
     "text": [
      "\u001b[32m[I 2021-02-17 01:58:35,183]\u001b[0m Trial 99 finished with value: 0.8673006416018987 and parameters: {'iterations': 500, 'learning_rate': 0.06801893522755295, 'random_strength': 1, 'bagging_temperature': 7, 'max_bin': 5, 'grow_policy': 'Lossguide', 'min_data_in_leaf': 7, 'max_depth': 8, 'l2_leaf_reg': 29.171787980364385, 'one_hot_max_size': 5, 'auto_class_weights': 'Balanced'}. Best is trial 92 with value: 0.8679538793376752.\u001b[0m\n"
     ]
    },
    {
     "name": "stdout",
     "output_type": "stream",
     "text": [
      "Stopped by overfitting detector  (10 iterations wait)\n"
     ]
    }
   ],
   "source": [
    "sampler = optuna.samplers.TPESampler(seed=68)  # Make the sampler behave in a deterministic way.\n",
    "study = optuna.create_study(direction=\"maximize\", sampler=sampler)\n",
    "study.optimize(objective, n_trials=100)"
   ]
  },
  {
   "cell_type": "code",
   "execution_count": 24,
   "metadata": {},
   "outputs": [
    {
     "name": "stdout",
     "output_type": "stream",
     "text": [
      "Number of finished trials: 100\n",
      "Best trial:\n",
      "  Value: 0.8679538793376752\n",
      "  Params: \n",
      "    iterations=500,\n",
      "    learning_rate=0.05745075659543725,\n",
      "    random_strength=4,\n",
      "    bagging_temperature=8,\n",
      "    max_bin=5,\n",
      "    grow_policy=Lossguide,\n",
      "    min_data_in_leaf=7,\n",
      "    max_depth=6,\n",
      "    l2_leaf_reg=11.323094517862078,\n",
      "    one_hot_max_size=10,\n",
      "    auto_class_weights=Balanced,\n"
     ]
    }
   ],
   "source": [
    "print(\"Number of finished trials: {}\".format(len(study.trials)))\n",
    "print(\"Best trial:\")\n",
    "trial = study.best_trial\n",
    "print(\"  Value: {}\".format(trial.value))\n",
    "print(\"  Params: \")\n",
    "for key, value in trial.params.items():\n",
    "    print(\"    {}={},\".format(key, value))\n"
   ]
  },
  {
   "cell_type": "markdown",
   "metadata": {},
   "source": [
    "### Check the model"
   ]
  },
  {
   "cell_type": "code",
   "execution_count": 25,
   "metadata": {},
   "outputs": [],
   "source": [
    "final_model = CatBoostClassifier(verbose=False,  cat_features=categorical_features_indices, \n",
    "                          **trial.params)"
   ]
  },
  {
   "cell_type": "code",
   "execution_count": 27,
   "metadata": {},
   "outputs": [
    {
     "data": {
      "text/plain": [
       "<catboost.core.CatBoostClassifier at 0x7f87e2007bd0>"
      ]
     },
     "execution_count": 27,
     "metadata": {},
     "output_type": "execute_result"
    }
   ],
   "source": [
    "final_model.fit(X_train, y_train.h1n1_vaccine)"
   ]
  },
  {
   "cell_type": "code",
   "execution_count": 28,
   "metadata": {},
   "outputs": [],
   "source": [
    "predictions_h1 = final_model.predict_proba(X_test)"
   ]
  },
  {
   "cell_type": "code",
   "execution_count": 29,
   "metadata": {},
   "outputs": [],
   "source": [
    "predictions_h1 = predictions_h1[:,1].reshape(-1,1)"
   ]
  },
  {
   "cell_type": "code",
   "execution_count": 30,
   "metadata": {},
   "outputs": [],
   "source": [
    "from sklearn.metrics import roc_curve, roc_auc_score"
   ]
  },
  {
   "cell_type": "code",
   "execution_count": 31,
   "metadata": {},
   "outputs": [],
   "source": [
    "def plot_roc(y_true, y_score, label_name, ax):\n",
    "    fpr, tpr, thresholds = roc_curve(y_true, y_score)\n",
    "    ax.plot(fpr, tpr)\n",
    "    ax.plot([0, 1], [0, 1], color='grey', linestyle='--')\n",
    "    ax.set_ylabel('TPR')\n",
    "    ax.set_xlabel('FPR')\n",
    "    ax.set_title(\n",
    "        f\"{label_name}: AUC = {roc_auc_score(y_true, y_score):.4f}\"\n",
    "    )"
   ]
  },
  {
   "cell_type": "code",
   "execution_count": 32,
   "metadata": {},
   "outputs": [
    {
     "data": {
      "image/png": "[encoded data removed]",
      "text/plain": [
       "<Figure size 720x576 with 1 Axes>"
      ]
     },
     "metadata": {
      "needs_background": "light"
     },
     "output_type": "display_data"
    }
   ],
   "source": [
    "fig, ax = plt.subplots(1, 1, figsize=(10, 8))\n",
    "plot_roc(\n",
    "    y_test['h1n1_vaccine'], \n",
    "    predictions_h1, \n",
    "    'h1n1_vaccine',\n",
    "    ax=ax\n",
    ")"
   ]
  },
  {
   "cell_type": "code",
   "execution_count": 33,
   "metadata": {},
   "outputs": [
    {
     "data": {
      "text/plain": [
       "0.8710964730481472"
      ]
     },
     "execution_count": 33,
     "metadata": {},
     "output_type": "execute_result"
    }
   ],
   "source": [
    "roc_auc_score(y_test.h1n1_vaccine, predictions_h1)"
   ]
  },
  {
   "cell_type": "markdown",
   "metadata": {},
   "source": [
    "## Second part"
   ]
  },
  {
   "cell_type": "code",
   "execution_count": 34,
   "metadata": {},
   "outputs": [],
   "source": [
    "train_dataset_se = Pool(data=X_train,\n",
    "                     label=y_train.seasonal_vaccine,\n",
    "                     cat_features = categorical_features_indices)"
   ]
  },
  {
   "cell_type": "markdown",
   "metadata": {},
   "source": [
    "I made a second objective function in case I'd want to change some tuning"
   ]
  },
  {
   "cell_type": "code",
   "execution_count": 35,
   "metadata": {},
   "outputs": [],
   "source": [
    "def objective2(trial):\n",
    "    param = {\n",
    "        'iterations':trial.suggest_categorical('iterations', [100,200,300,500,1000,1200,1500]),\n",
    "        'learning_rate':trial.suggest_float(\"learning_rate\", 0.001, 0.3),\n",
    "        'random_strength':trial.suggest_int(\"random_strength\", 1,10),\n",
    "        'bagging_temperature':trial.suggest_int(\"bagging_temperature\", 0,10),\n",
    "        'max_bin':trial.suggest_categorical('max_bin', [4,5,6,8,10,20,30]),\n",
    "        'grow_policy':trial.suggest_categorical('grow_policy', ['SymmetricTree', 'Depthwise', 'Lossguide']),\n",
    "        'min_data_in_leaf':trial.suggest_int(\"min_data_in_leaf\", 1,10),\n",
    "        'od_type' : \"Iter\",\n",
    "        'od_wait' : 100,\n",
    "        \"depth\": trial.suggest_int(\"max_depth\", 2,10),\n",
    "        \"l2_leaf_reg\": trial.suggest_loguniform(\"l2_leaf_reg\", 1e-8, 100),\n",
    "         'one_hot_max_size':trial.suggest_categorical('one_hot_max_size', [5,10,12,100,500,1024]),\n",
    "        'custom_metric' : ['AUC'],\n",
    "        \"loss_function\": \"Logloss\",\n",
    "        'auto_class_weights':trial.suggest_categorical('auto_class_weights', ['Balanced', 'SqrtBalanced']),\n",
    "        }\n",
    "\n",
    "    scores = cv(train_dataset_se,\n",
    "            param,\n",
    "            fold_count=5, \n",
    "            early_stopping_rounds=10,         \n",
    "            plot=False, verbose=False) \n",
    "\n",
    "    return scores['test-AUC-mean'].max()"
   ]
  },
  {
   "cell_type": "code",
   "execution_count": 36,
   "metadata": {},
   "outputs": [
    {
     "name": "stderr",
     "output_type": "stream",
     "text": [
      "\u001b[32m[I 2021-02-17 01:58:46,608]\u001b[0m A new study created in memory with name: no-name-03913ebf-5557-4268-9f2c-43f40117f5aa\u001b[0m\n",
      "\u001b[32m[I 2021-02-17 01:59:12,754]\u001b[0m Trial 0 finished with value: 0.8592774453063841 and parameters: {'iterations': 300, 'learning_rate': 0.013964954297408176, 'random_strength': 1, 'bagging_temperature': 8, 'max_bin': 10, 'grow_policy': 'Lossguide', 'min_data_in_leaf': 4, 'max_depth': 5, 'l2_leaf_reg': 21.328495943450676, 'one_hot_max_size': 100, 'auto_class_weights': 'SqrtBalanced'}. Best is trial 0 with value: 0.8592774453063841.\u001b[0m\n",
      "\u001b[32m[I 2021-02-17 01:59:26,032]\u001b[0m Trial 1 finished with value: 0.8599969087296045 and parameters: {'iterations': 1200, 'learning_rate': 0.11477165079768124, 'random_strength': 9, 'bagging_temperature': 6, 'max_bin': 5, 'grow_policy': 'Lossguide', 'min_data_in_leaf': 5, 'max_depth': 7, 'l2_leaf_reg': 0.5714362138520529, 'one_hot_max_size': 500, 'auto_class_weights': 'SqrtBalanced'}. Best is trial 1 with value: 0.8599969087296045.\u001b[0m\n"
     ]
    },
    {
     "name": "stdout",
     "output_type": "stream",
     "text": [
      "Stopped by overfitting detector  (10 iterations wait)\n"
     ]
    },
    {
     "name": "stderr",
     "output_type": "stream",
     "text": [
      "\u001b[32m[I 2021-02-17 02:00:01,309]\u001b[0m Trial 2 finished with value: 0.861608374321975 and parameters: {'iterations': 1500, 'learning_rate': 0.06018181691194878, 'random_strength': 6, 'bagging_temperature': 4, 'max_bin': 10, 'grow_policy': 'Lossguide', 'min_data_in_leaf': 6, 'max_depth': 4, 'l2_leaf_reg': 7.937278880272323e-06, 'one_hot_max_size': 12, 'auto_class_weights': 'Balanced'}. Best is trial 2 with value: 0.861608374321975.\u001b[0m\n"
     ]
    },
    {
     "name": "stdout",
     "output_type": "stream",
     "text": [
      "Stopped by overfitting detector  (10 iterations wait)\n"
     ]
    },
    {
     "name": "stderr",
     "output_type": "stream",
     "text": [
      "\u001b[32m[I 2021-02-17 02:00:14,015]\u001b[0m Trial 3 finished with value: 0.8586019282142363 and parameters: {'iterations': 100, 'learning_rate': 0.04917655399574397, 'random_strength': 1, 'bagging_temperature': 5, 'max_bin': 30, 'grow_policy': 'Lossguide', 'min_data_in_leaf': 3, 'max_depth': 6, 'l2_leaf_reg': 1.253388039132331e-06, 'one_hot_max_size': 500, 'auto_class_weights': 'SqrtBalanced'}. Best is trial 2 with value: 0.861608374321975.\u001b[0m\n",
      "\u001b[32m[I 2021-02-17 02:00:27,447]\u001b[0m Trial 4 finished with value: 0.8602753191026151 and parameters: {'iterations': 1500, 'learning_rate': 0.20567786125414012, 'random_strength': 8, 'bagging_temperature': 7, 'max_bin': 20, 'grow_policy': 'Lossguide', 'min_data_in_leaf': 7, 'max_depth': 2, 'l2_leaf_reg': 0.0011659140576640084, 'one_hot_max_size': 12, 'auto_class_weights': 'SqrtBalanced'}. Best is trial 2 with value: 0.861608374321975.\u001b[0m\n"
     ]
    },
    {
     "name": "stdout",
     "output_type": "stream",
     "text": [
      "Stopped by overfitting detector  (10 iterations wait)\n"
     ]
    },
    {
     "name": "stderr",
     "output_type": "stream",
     "text": [
      "\u001b[32m[I 2021-02-17 02:00:34,719]\u001b[0m Trial 5 finished with value: 0.8567640003480698 and parameters: {'iterations': 100, 'learning_rate': 0.21103536986772822, 'random_strength': 4, 'bagging_temperature': 4, 'max_bin': 6, 'grow_policy': 'Lossguide', 'min_data_in_leaf': 6, 'max_depth': 4, 'l2_leaf_reg': 1.5248267732768012e-08, 'one_hot_max_size': 100, 'auto_class_weights': 'SqrtBalanced'}. Best is trial 2 with value: 0.861608374321975.\u001b[0m\n"
     ]
    },
    {
     "name": "stdout",
     "output_type": "stream",
     "text": [
      "Stopped by overfitting detector  (10 iterations wait)\n"
     ]
    },
    {
     "name": "stderr",
     "output_type": "stream",
     "text": [
      "\u001b[32m[I 2021-02-17 02:01:10,069]\u001b[0m Trial 6 finished with value: 0.8617699180315392 and parameters: {'iterations': 1000, 'learning_rate': 0.039222305770230614, 'random_strength': 5, 'bagging_temperature': 3, 'max_bin': 20, 'grow_policy': 'SymmetricTree', 'min_data_in_leaf': 10, 'max_depth': 4, 'l2_leaf_reg': 3.544948380552023e-06, 'one_hot_max_size': 10, 'auto_class_weights': 'Balanced'}. Best is trial 6 with value: 0.8617699180315392.\u001b[0m\n"
     ]
    },
    {
     "name": "stdout",
     "output_type": "stream",
     "text": [
      "Stopped by overfitting detector  (10 iterations wait)\n"
     ]
    },
    {
     "name": "stderr",
     "output_type": "stream",
     "text": [
      "\u001b[32m[I 2021-02-17 02:01:44,172]\u001b[0m Trial 7 finished with value: 0.860718479761989 and parameters: {'iterations': 1000, 'learning_rate': 0.045869610193466345, 'random_strength': 9, 'bagging_temperature': 10, 'max_bin': 30, 'grow_policy': 'Lossguide', 'min_data_in_leaf': 8, 'max_depth': 5, 'l2_leaf_reg': 6.629274905463984e-06, 'one_hot_max_size': 12, 'auto_class_weights': 'Balanced'}. Best is trial 6 with value: 0.8617699180315392.\u001b[0m\n"
     ]
    },
    {
     "name": "stdout",
     "output_type": "stream",
     "text": [
      "Stopped by overfitting detector  (10 iterations wait)\n"
     ]
    },
    {
     "name": "stderr",
     "output_type": "stream",
     "text": [
      "\u001b[32m[I 2021-02-17 02:01:48,686]\u001b[0m Trial 8 finished with value: 0.8518659419954195 and parameters: {'iterations': 1500, 'learning_rate': 0.2775338323862574, 'random_strength': 6, 'bagging_temperature': 4, 'max_bin': 4, 'grow_policy': 'Lossguide', 'min_data_in_leaf': 9, 'max_depth': 9, 'l2_leaf_reg': 0.0010943835695463693, 'one_hot_max_size': 500, 'auto_class_weights': 'SqrtBalanced'}. Best is trial 6 with value: 0.8617699180315392.\u001b[0m\n"
     ]
    },
    {
     "name": "stdout",
     "output_type": "stream",
     "text": [
      "Stopped by overfitting detector  (10 iterations wait)\n"
     ]
    },
    {
     "name": "stderr",
     "output_type": "stream",
     "text": [
      "\u001b[32m[I 2021-02-17 02:01:52,676]\u001b[0m Trial 9 finished with value: 0.8576354127969263 and parameters: {'iterations': 1000, 'learning_rate': 0.16527427195333977, 'random_strength': 1, 'bagging_temperature': 9, 'max_bin': 8, 'grow_policy': 'SymmetricTree', 'min_data_in_leaf': 2, 'max_depth': 5, 'l2_leaf_reg': 5.547808519611033e-05, 'one_hot_max_size': 100, 'auto_class_weights': 'SqrtBalanced'}. Best is trial 6 with value: 0.8617699180315392.\u001b[0m\n"
     ]
    },
    {
     "name": "stdout",
     "output_type": "stream",
     "text": [
      "Stopped by overfitting detector  (10 iterations wait)\n"
     ]
    },
    {
     "name": "stderr",
     "output_type": "stream",
     "text": [
      "\u001b[32m[I 2021-02-17 02:02:11,155]\u001b[0m Trial 10 finished with value: 0.8616278814855303 and parameters: {'iterations': 500, 'learning_rate': 0.11039932312091873, 'random_strength': 4, 'bagging_temperature': 0, 'max_bin': 20, 'grow_policy': 'Depthwise', 'min_data_in_leaf': 10, 'max_depth': 2, 'l2_leaf_reg': 1.2159249519874814e-08, 'one_hot_max_size': 10, 'auto_class_weights': 'Balanced'}. Best is trial 6 with value: 0.8617699180315392.\u001b[0m\n"
     ]
    },
    {
     "name": "stdout",
     "output_type": "stream",
     "text": [
      "Stopped by overfitting detector  (10 iterations wait)\n"
     ]
    },
    {
     "name": "stderr",
     "output_type": "stream",
     "text": [
      "\u001b[32m[I 2021-02-17 02:02:30,680]\u001b[0m Trial 11 finished with value: 0.8613644301746106 and parameters: {'iterations': 500, 'learning_rate': 0.1084207966325659, 'random_strength': 4, 'bagging_temperature': 0, 'max_bin': 20, 'grow_policy': 'Depthwise', 'min_data_in_leaf': 10, 'max_depth': 2, 'l2_leaf_reg': 1.2894289326228455e-08, 'one_hot_max_size': 10, 'auto_class_weights': 'Balanced'}. Best is trial 6 with value: 0.8617699180315392.\u001b[0m\n"
     ]
    },
    {
     "name": "stdout",
     "output_type": "stream",
     "text": [
      "Stopped by overfitting detector  (10 iterations wait)\n"
     ]
    },
    {
     "name": "stderr",
     "output_type": "stream",
     "text": [
      "\u001b[32m[I 2021-02-17 02:02:55,635]\u001b[0m Trial 12 finished with value: 0.8357434471221705 and parameters: {'iterations': 500, 'learning_rate': 0.004806416713353634, 'random_strength': 4, 'bagging_temperature': 0, 'max_bin': 20, 'grow_policy': 'Depthwise', 'min_data_in_leaf': 10, 'max_depth': 2, 'l2_leaf_reg': 6.39944753546505e-08, 'one_hot_max_size': 10, 'auto_class_weights': 'Balanced'}. Best is trial 6 with value: 0.8617699180315392.\u001b[0m\n",
      "\u001b[32m[I 2021-02-17 02:03:11,141]\u001b[0m Trial 13 finished with value: 0.8616457635070617 and parameters: {'iterations': 1000, 'learning_rate': 0.10411608463872443, 'random_strength': 3, 'bagging_temperature': 2, 'max_bin': 20, 'grow_policy': 'SymmetricTree', 'min_data_in_leaf': 10, 'max_depth': 3, 'l2_leaf_reg': 1.276003870120915e-07, 'one_hot_max_size': 5, 'auto_class_weights': 'Balanced'}. Best is trial 6 with value: 0.8617699180315392.\u001b[0m\n"
     ]
    },
    {
     "name": "stdout",
     "output_type": "stream",
     "text": [
      "Stopped by overfitting detector  (10 iterations wait)\n"
     ]
    },
    {
     "name": "stderr",
     "output_type": "stream",
     "text": [
      "\u001b[32m[I 2021-02-17 02:03:38,197]\u001b[0m Trial 14 finished with value: 0.8619148959330752 and parameters: {'iterations': 1000, 'learning_rate': 0.07618156061546405, 'random_strength': 3, 'bagging_temperature': 2, 'max_bin': 20, 'grow_policy': 'SymmetricTree', 'min_data_in_leaf': 9, 'max_depth': 3, 'l2_leaf_reg': 3.5865647557736247e-07, 'one_hot_max_size': 5, 'auto_class_weights': 'Balanced'}. Best is trial 14 with value: 0.8619148959330752.\u001b[0m\n"
     ]
    },
    {
     "name": "stdout",
     "output_type": "stream",
     "text": [
      "Stopped by overfitting detector  (10 iterations wait)\n"
     ]
    },
    {
     "name": "stderr",
     "output_type": "stream",
     "text": [
      "\u001b[32m[I 2021-02-17 02:03:50,054]\u001b[0m Trial 15 finished with value: 0.8549497979408294 and parameters: {'iterations': 1000, 'learning_rate': 0.06969554503907559, 'random_strength': 7, 'bagging_temperature': 2, 'max_bin': 20, 'grow_policy': 'SymmetricTree', 'min_data_in_leaf': 8, 'max_depth': 7, 'l2_leaf_reg': 0.0002906071529974482, 'one_hot_max_size': 1024, 'auto_class_weights': 'Balanced'}. Best is trial 14 with value: 0.8619148959330752.\u001b[0m\n"
     ]
    },
    {
     "name": "stdout",
     "output_type": "stream",
     "text": [
      "Stopped by overfitting detector  (10 iterations wait)\n"
     ]
    },
    {
     "name": "stderr",
     "output_type": "stream",
     "text": [
      "\u001b[32m[I 2021-02-17 02:04:00,196]\u001b[0m Trial 16 finished with value: 0.8609895930428383 and parameters: {'iterations': 200, 'learning_rate': 0.15325494851429844, 'random_strength': 2, 'bagging_temperature': 2, 'max_bin': 5, 'grow_policy': 'SymmetricTree', 'min_data_in_leaf': 8, 'max_depth': 3, 'l2_leaf_reg': 6.938536064744217e-07, 'one_hot_max_size': 5, 'auto_class_weights': 'Balanced'}. Best is trial 14 with value: 0.8619148959330752.\u001b[0m\n"
     ]
    },
    {
     "name": "stdout",
     "output_type": "stream",
     "text": [
      "Stopped by overfitting detector  (10 iterations wait)\n"
     ]
    },
    {
     "name": "stderr",
     "output_type": "stream",
     "text": [
      "\u001b[32m[I 2021-02-17 02:05:03,898]\u001b[0m Trial 17 finished with value: 0.8564992332206849 and parameters: {'iterations': 1000, 'learning_rate': 0.009317706201861467, 'random_strength': 5, 'bagging_temperature': 2, 'max_bin': 4, 'grow_policy': 'SymmetricTree', 'min_data_in_leaf': 9, 'max_depth': 4, 'l2_leaf_reg': 0.04373352118950405, 'one_hot_max_size': 5, 'auto_class_weights': 'Balanced'}. Best is trial 14 with value: 0.8619148959330752.\u001b[0m\n",
      "\u001b[32m[I 2021-02-17 02:05:09,478]\u001b[0m Trial 18 finished with value: 0.8367012309165419 and parameters: {'iterations': 1000, 'learning_rate': 0.07767821367355207, 'random_strength': 3, 'bagging_temperature': 3, 'max_bin': 6, 'grow_policy': 'SymmetricTree', 'min_data_in_leaf': 1, 'max_depth': 10, 'l2_leaf_reg': 2.5602616797376855e-05, 'one_hot_max_size': 1024, 'auto_class_weights': 'Balanced'}. Best is trial 14 with value: 0.8619148959330752.\u001b[0m\n"
     ]
    },
    {
     "name": "stdout",
     "output_type": "stream",
     "text": [
      "Stopped by overfitting detector  (10 iterations wait)\n"
     ]
    },
    {
     "name": "stderr",
     "output_type": "stream",
     "text": [
      "\u001b[32m[I 2021-02-17 02:05:26,289]\u001b[0m Trial 19 finished with value: 0.8498049035164978 and parameters: {'iterations': 300, 'learning_rate': 0.017984347045110226, 'random_strength': 5, 'bagging_temperature': 1, 'max_bin': 8, 'grow_policy': 'SymmetricTree', 'min_data_in_leaf': 9, 'max_depth': 3, 'l2_leaf_reg': 1.2398896982274805e-06, 'one_hot_max_size': 5, 'auto_class_weights': 'Balanced'}. Best is trial 14 with value: 0.8619148959330752.\u001b[0m\n",
      "\u001b[32m[I 2021-02-17 02:06:08,776]\u001b[0m Trial 20 finished with value: 0.8619727265448246 and parameters: {'iterations': 1200, 'learning_rate': 0.03236712628327796, 'random_strength': 7, 'bagging_temperature': 5, 'max_bin': 20, 'grow_policy': 'SymmetricTree', 'min_data_in_leaf': 7, 'max_depth': 6, 'l2_leaf_reg': 0.046219859585272895, 'one_hot_max_size': 10, 'auto_class_weights': 'Balanced'}. Best is trial 20 with value: 0.8619727265448246.\u001b[0m\n"
     ]
    },
    {
     "name": "stdout",
     "output_type": "stream",
     "text": [
      "Stopped by overfitting detector  (10 iterations wait)\n"
     ]
    },
    {
     "name": "stderr",
     "output_type": "stream",
     "text": [
      "\u001b[32m[I 2021-02-17 02:06:47,953]\u001b[0m Trial 21 finished with value: 0.8597350906668979 and parameters: {'iterations': 1200, 'learning_rate': 0.03452823865248107, 'random_strength': 7, 'bagging_temperature': 5, 'max_bin': 20, 'grow_policy': 'SymmetricTree', 'min_data_in_leaf': 7, 'max_depth': 7, 'l2_leaf_reg': 0.018537719843351754, 'one_hot_max_size': 10, 'auto_class_weights': 'Balanced'}. Best is trial 20 with value: 0.8619727265448246.\u001b[0m\n"
     ]
    },
    {
     "name": "stdout",
     "output_type": "stream",
     "text": [
      "Stopped by overfitting detector  (10 iterations wait)\n"
     ]
    },
    {
     "name": "stderr",
     "output_type": "stream",
     "text": [
      "\u001b[32m[I 2021-02-17 02:07:08,229]\u001b[0m Trial 22 finished with value: 0.8583524447935437 and parameters: {'iterations': 1200, 'learning_rate': 0.08575309147911239, 'random_strength': 7, 'bagging_temperature': 3, 'max_bin': 20, 'grow_policy': 'SymmetricTree', 'min_data_in_leaf': 8, 'max_depth': 8, 'l2_leaf_reg': 0.3397573285506683, 'one_hot_max_size': 10, 'auto_class_weights': 'Balanced'}. Best is trial 20 with value: 0.8619727265448246.\u001b[0m\n"
     ]
    },
    {
     "name": "stdout",
     "output_type": "stream",
     "text": [
      "Stopped by overfitting detector  (10 iterations wait)\n"
     ]
    },
    {
     "name": "stderr",
     "output_type": "stream",
     "text": [
      "\u001b[32m[I 2021-02-17 02:08:17,337]\u001b[0m Trial 23 finished with value: 0.8624260361198551 and parameters: {'iterations': 1200, 'learning_rate': 0.027247202810574488, 'random_strength': 10, 'bagging_temperature': 6, 'max_bin': 20, 'grow_policy': 'SymmetricTree', 'min_data_in_leaf': 9, 'max_depth': 6, 'l2_leaf_reg': 39.55970394954269, 'one_hot_max_size': 10, 'auto_class_weights': 'Balanced'}. Best is trial 23 with value: 0.8624260361198551.\u001b[0m\n"
     ]
    },
    {
     "name": "stdout",
     "output_type": "stream",
     "text": [
      "Stopped by overfitting detector  (10 iterations wait)\n"
     ]
    },
    {
     "name": "stderr",
     "output_type": "stream",
     "text": [
      "\u001b[32m[I 2021-02-17 02:08:31,360]\u001b[0m Trial 24 finished with value: 0.8609916595255 and parameters: {'iterations': 1200, 'learning_rate': 0.13650969502800792, 'random_strength': 10, 'bagging_temperature': 6, 'max_bin': 20, 'grow_policy': 'SymmetricTree', 'min_data_in_leaf': 7, 'max_depth': 6, 'l2_leaf_reg': 14.889821880428762, 'one_hot_max_size': 10, 'auto_class_weights': 'Balanced'}. Best is trial 23 with value: 0.8624260361198551.\u001b[0m\n"
     ]
    },
    {
     "name": "stdout",
     "output_type": "stream",
     "text": [
      "Stopped by overfitting detector  (10 iterations wait)\n"
     ]
    },
    {
     "name": "stderr",
     "output_type": "stream",
     "text": [
      "\u001b[32m[I 2021-02-17 02:10:14,239]\u001b[0m Trial 25 finished with value: 0.861997483772733 and parameters: {'iterations': 1200, 'learning_rate': 0.02712686924609191, 'random_strength': 10, 'bagging_temperature': 6, 'max_bin': 20, 'grow_policy': 'SymmetricTree', 'min_data_in_leaf': 9, 'max_depth': 8, 'l2_leaf_reg': 88.84655832391311, 'one_hot_max_size': 5, 'auto_class_weights': 'Balanced'}. Best is trial 23 with value: 0.8624260361198551.\u001b[0m\n"
     ]
    },
    {
     "name": "stdout",
     "output_type": "stream",
     "text": [
      "Stopped by overfitting detector  (10 iterations wait)\n"
     ]
    },
    {
     "name": "stderr",
     "output_type": "stream",
     "text": [
      "\u001b[32m[I 2021-02-17 02:11:59,242]\u001b[0m Trial 26 finished with value: 0.8622215414530657 and parameters: {'iterations': 1200, 'learning_rate': 0.027279570694869436, 'random_strength': 10, 'bagging_temperature': 7, 'max_bin': 20, 'grow_policy': 'SymmetricTree', 'min_data_in_leaf': 5, 'max_depth': 8, 'l2_leaf_reg': 95.65012826306524, 'one_hot_max_size': 10, 'auto_class_weights': 'Balanced'}. Best is trial 23 with value: 0.8624260361198551.\u001b[0m\n"
     ]
    },
    {
     "name": "stdout",
     "output_type": "stream",
     "text": [
      "Stopped by overfitting detector  (10 iterations wait)\n"
     ]
    },
    {
     "name": "stderr",
     "output_type": "stream",
     "text": [
      "\u001b[32m[I 2021-02-17 02:12:09,964]\u001b[0m Trial 27 finished with value: 0.8582590962360153 and parameters: {'iterations': 1200, 'learning_rate': 0.29935905333625645, 'random_strength': 10, 'bagging_temperature': 7, 'max_bin': 5, 'grow_policy': 'SymmetricTree', 'min_data_in_leaf': 5, 'max_depth': 9, 'l2_leaf_reg': 88.42202477486413, 'one_hot_max_size': 10, 'auto_class_weights': 'Balanced'}. Best is trial 23 with value: 0.8624260361198551.\u001b[0m\n"
     ]
    },
    {
     "name": "stdout",
     "output_type": "stream",
     "text": [
      "Stopped by overfitting detector  (10 iterations wait)\n"
     ]
    },
    {
     "name": "stderr",
     "output_type": "stream",
     "text": [
      "\u001b[32m[I 2021-02-17 02:14:34,841]\u001b[0m Trial 28 finished with value: 0.8448933869047659 and parameters: {'iterations': 1200, 'learning_rate': 0.0012883179018759842, 'random_strength': 9, 'bagging_temperature': 8, 'max_bin': 4, 'grow_policy': 'SymmetricTree', 'min_data_in_leaf': 4, 'max_depth': 8, 'l2_leaf_reg': 4.507225065456655, 'one_hot_max_size': 5, 'auto_class_weights': 'Balanced'}. Best is trial 23 with value: 0.8624260361198551.\u001b[0m\n",
      "\u001b[32m[I 2021-02-17 02:15:00,735]\u001b[0m Trial 29 finished with value: 0.8511466699775211 and parameters: {'iterations': 200, 'learning_rate': 0.018121978525421818, 'random_strength': 10, 'bagging_temperature': 8, 'max_bin': 10, 'grow_policy': 'Depthwise', 'min_data_in_leaf': 3, 'max_depth': 8, 'l2_leaf_reg': 82.80146360137286, 'one_hot_max_size': 100, 'auto_class_weights': 'Balanced'}. Best is trial 23 with value: 0.8624260361198551.\u001b[0m\n",
      "\u001b[32m[I 2021-02-17 02:16:10,806]\u001b[0m Trial 30 finished with value: 0.8606369200848867 and parameters: {'iterations': 1200, 'learning_rate': 0.025343709715977606, 'random_strength': 8, 'bagging_temperature': 7, 'max_bin': 6, 'grow_policy': 'SymmetricTree', 'min_data_in_leaf': 4, 'max_depth': 10, 'l2_leaf_reg': 4.231408300407245, 'one_hot_max_size': 1024, 'auto_class_weights': 'Balanced'}. Best is trial 23 with value: 0.8624260361198551.\u001b[0m\n"
     ]
    },
    {
     "name": "stdout",
     "output_type": "stream",
     "text": [
      "Stopped by overfitting detector  (10 iterations wait)\n"
     ]
    },
    {
     "name": "stderr",
     "output_type": "stream",
     "text": [
      "\u001b[32m[I 2021-02-17 02:16:51,352]\u001b[0m Trial 31 finished with value: 0.8624760408843091 and parameters: {'iterations': 1200, 'learning_rate': 0.05571026924312778, 'random_strength': 10, 'bagging_temperature': 6, 'max_bin': 20, 'grow_policy': 'SymmetricTree', 'min_data_in_leaf': 6, 'max_depth': 6, 'l2_leaf_reg': 92.84631319598631, 'one_hot_max_size': 10, 'auto_class_weights': 'Balanced'}. Best is trial 31 with value: 0.8624760408843091.\u001b[0m\n"
     ]
    },
    {
     "name": "stdout",
     "output_type": "stream",
     "text": [
      "Stopped by overfitting detector  (10 iterations wait)\n"
     ]
    },
    {
     "name": "stderr",
     "output_type": "stream",
     "text": [
      "\u001b[32m[I 2021-02-17 02:18:56,698]\u001b[0m Trial 32 finished with value: 0.8422039202853909 and parameters: {'iterations': 1200, 'learning_rate': 0.0010313180718820245, 'random_strength': 9, 'bagging_temperature': 6, 'max_bin': 20, 'grow_policy': 'SymmetricTree', 'min_data_in_leaf': 5, 'max_depth': 7, 'l2_leaf_reg': 24.67310566534338, 'one_hot_max_size': 10, 'auto_class_weights': 'Balanced'}. Best is trial 31 with value: 0.8624760408843091.\u001b[0m\n",
      "\u001b[32m[I 2021-02-17 02:19:31,048]\u001b[0m Trial 33 finished with value: 0.859487821029903 and parameters: {'iterations': 1200, 'learning_rate': 0.062100494868209254, 'random_strength': 10, 'bagging_temperature': 6, 'max_bin': 10, 'grow_policy': 'SymmetricTree', 'min_data_in_leaf': 6, 'max_depth': 9, 'l2_leaf_reg': 1.2952184669897353, 'one_hot_max_size': 10, 'auto_class_weights': 'Balanced'}. Best is trial 31 with value: 0.8624760408843091.\u001b[0m\n"
     ]
    },
    {
     "name": "stdout",
     "output_type": "stream",
     "text": [
      "Stopped by overfitting detector  (10 iterations wait)\n"
     ]
    },
    {
     "name": "stderr",
     "output_type": "stream",
     "text": [
      "\u001b[32m[I 2021-02-17 02:20:06,984]\u001b[0m Trial 34 finished with value: 0.8617578410670788 and parameters: {'iterations': 300, 'learning_rate': 0.052470154488746826, 'random_strength': 9, 'bagging_temperature': 7, 'max_bin': 30, 'grow_policy': 'SymmetricTree', 'min_data_in_leaf': 3, 'max_depth': 8, 'l2_leaf_reg': 45.787192748037945, 'one_hot_max_size': 10, 'auto_class_weights': 'Balanced'}. Best is trial 31 with value: 0.8624760408843091.\u001b[0m\n",
      "\u001b[32m[I 2021-02-17 02:20:19,957]\u001b[0m Trial 35 finished with value: 0.8616715967736706 and parameters: {'iterations': 1200, 'learning_rate': 0.09350163378814949, 'random_strength': 8, 'bagging_temperature': 9, 'max_bin': 20, 'grow_policy': 'SymmetricTree', 'min_data_in_leaf': 5, 'max_depth': 6, 'l2_leaf_reg': 8.394192250872125, 'one_hot_max_size': 500, 'auto_class_weights': 'Balanced'}. Best is trial 31 with value: 0.8624760408843091.\u001b[0m\n"
     ]
    },
    {
     "name": "stdout",
     "output_type": "stream",
     "text": [
      "Stopped by overfitting detector  (10 iterations wait)\n"
     ]
    },
    {
     "name": "stderr",
     "output_type": "stream",
     "text": [
      "\u001b[32m[I 2021-02-17 02:20:57,820]\u001b[0m Trial 36 finished with value: 0.8611326533509001 and parameters: {'iterations': 1200, 'learning_rate': 0.051467883369440526, 'random_strength': 10, 'bagging_temperature': 6, 'max_bin': 20, 'grow_policy': 'SymmetricTree', 'min_data_in_leaf': 6, 'max_depth': 7, 'l2_leaf_reg': 1.2592120964345, 'one_hot_max_size': 12, 'auto_class_weights': 'Balanced'}. Best is trial 31 with value: 0.8624760408843091.\u001b[0m\n"
     ]
    },
    {
     "name": "stdout",
     "output_type": "stream",
     "text": [
      "Stopped by overfitting detector  (10 iterations wait)\n"
     ]
    },
    {
     "name": "stderr",
     "output_type": "stream",
     "text": [
      "\u001b[32m[I 2021-02-17 02:21:04,326]\u001b[0m Trial 37 finished with value: 0.8448587047236252 and parameters: {'iterations': 100, 'learning_rate': 0.02568221228798362, 'random_strength': 8, 'bagging_temperature': 7, 'max_bin': 8, 'grow_policy': 'SymmetricTree', 'min_data_in_leaf': 4, 'max_depth': 5, 'l2_leaf_reg': 87.48517216184811, 'one_hot_max_size': 10, 'auto_class_weights': 'SqrtBalanced'}. Best is trial 31 with value: 0.8624760408843091.\u001b[0m\n",
      "\u001b[32m[I 2021-02-17 02:21:20,064]\u001b[0m Trial 38 finished with value: 0.853128473568199 and parameters: {'iterations': 1200, 'learning_rate': 0.12773638178556146, 'random_strength': 9, 'bagging_temperature': 5, 'max_bin': 20, 'grow_policy': 'SymmetricTree', 'min_data_in_leaf': 7, 'max_depth': 9, 'l2_leaf_reg': 0.22026399083527087, 'one_hot_max_size': 10, 'auto_class_weights': 'Balanced'}. Best is trial 31 with value: 0.8624760408843091.\u001b[0m\n"
     ]
    },
    {
     "name": "stdout",
     "output_type": "stream",
     "text": [
      "Stopped by overfitting detector  (10 iterations wait)\n"
     ]
    },
    {
     "name": "stderr",
     "output_type": "stream",
     "text": [
      "\u001b[32m[I 2021-02-17 02:21:29,547]\u001b[0m Trial 39 finished with value: 0.860400768400553 and parameters: {'iterations': 1200, 'learning_rate': 0.18799555523262435, 'random_strength': 10, 'bagging_temperature': 8, 'max_bin': 30, 'grow_policy': 'Lossguide', 'min_data_in_leaf': 6, 'max_depth': 5, 'l2_leaf_reg': 22.52332464723313, 'one_hot_max_size': 500, 'auto_class_weights': 'Balanced'}. Best is trial 31 with value: 0.8624760408843091.\u001b[0m\n"
     ]
    },
    {
     "name": "stdout",
     "output_type": "stream",
     "text": [
      "Stopped by overfitting detector  (10 iterations wait)\n"
     ]
    },
    {
     "name": "stderr",
     "output_type": "stream",
     "text": [
      "\u001b[32m[I 2021-02-17 02:22:06,265]\u001b[0m Trial 40 finished with value: 0.861516799464793 and parameters: {'iterations': 1500, 'learning_rate': 0.042578219791789336, 'random_strength': 9, 'bagging_temperature': 4, 'max_bin': 20, 'grow_policy': 'SymmetricTree', 'min_data_in_leaf': 9, 'max_depth': 7, 'l2_leaf_reg': 2.087481458571183, 'one_hot_max_size': 12, 'auto_class_weights': 'SqrtBalanced'}. Best is trial 31 with value: 0.8624760408843091.\u001b[0m\n"
     ]
    },
    {
     "name": "stdout",
     "output_type": "stream",
     "text": [
      "Stopped by overfitting detector  (10 iterations wait)\n"
     ]
    },
    {
     "name": "stderr",
     "output_type": "stream",
     "text": [
      "\u001b[32m[I 2021-02-17 02:22:50,192]\u001b[0m Trial 41 finished with value: 0.8609410005750432 and parameters: {'iterations': 1200, 'learning_rate': 0.030632757759002652, 'random_strength': 10, 'bagging_temperature': 5, 'max_bin': 20, 'grow_policy': 'SymmetricTree', 'min_data_in_leaf': 5, 'max_depth': 6, 'l2_leaf_reg': 0.010120344084021772, 'one_hot_max_size': 10, 'auto_class_weights': 'Balanced'}. Best is trial 31 with value: 0.8624760408843091.\u001b[0m\n"
     ]
    },
    {
     "name": "stdout",
     "output_type": "stream",
     "text": [
      "Stopped by overfitting detector  (10 iterations wait)\n"
     ]
    },
    {
     "name": "stderr",
     "output_type": "stream",
     "text": [
      "\u001b[32m[I 2021-02-17 02:23:14,283]\u001b[0m Trial 42 finished with value: 0.8610182421679324 and parameters: {'iterations': 1200, 'learning_rate': 0.06461226321948788, 'random_strength': 8, 'bagging_temperature': 6, 'max_bin': 20, 'grow_policy': 'SymmetricTree', 'min_data_in_leaf': 7, 'max_depth': 6, 'l2_leaf_reg': 0.054234637196588546, 'one_hot_max_size': 10, 'auto_class_weights': 'Balanced'}. Best is trial 31 with value: 0.8624760408843091.\u001b[0m\n"
     ]
    },
    {
     "name": "stdout",
     "output_type": "stream",
     "text": [
      "Stopped by overfitting detector  (10 iterations wait)\n"
     ]
    },
    {
     "name": "stderr",
     "output_type": "stream",
     "text": [
      "\u001b[32m[I 2021-02-17 02:24:20,167]\u001b[0m Trial 43 finished with value: 0.8628189010522164 and parameters: {'iterations': 1200, 'learning_rate': 0.04020226312212685, 'random_strength': 9, 'bagging_temperature': 5, 'max_bin': 20, 'grow_policy': 'SymmetricTree', 'min_data_in_leaf': 8, 'max_depth': 7, 'l2_leaf_reg': 90.13854739728647, 'one_hot_max_size': 10, 'auto_class_weights': 'Balanced'}. Best is trial 43 with value: 0.8628189010522164.\u001b[0m\n"
     ]
    },
    {
     "name": "stdout",
     "output_type": "stream",
     "text": [
      "Stopped by overfitting detector  (10 iterations wait)\n"
     ]
    },
    {
     "name": "stderr",
     "output_type": "stream",
     "text": [
      "\u001b[32m[I 2021-02-17 02:24:28,825]\u001b[0m Trial 44 finished with value: 0.8535210908812981 and parameters: {'iterations': 100, 'learning_rate': 0.04924979597860921, 'random_strength': 9, 'bagging_temperature': 4, 'max_bin': 20, 'grow_policy': 'SymmetricTree', 'min_data_in_leaf': 8, 'max_depth': 8, 'l2_leaf_reg': 40.94570190854328, 'one_hot_max_size': 100, 'auto_class_weights': 'Balanced'}. Best is trial 43 with value: 0.8628189010522164.\u001b[0m\n",
      "\u001b[32m[I 2021-02-17 02:26:30,637]\u001b[0m Trial 45 finished with value: 0.8592894008103542 and parameters: {'iterations': 1200, 'learning_rate': 0.009427441664574057, 'random_strength': 10, 'bagging_temperature': 7, 'max_bin': 5, 'grow_policy': 'Lossguide', 'min_data_in_leaf': 9, 'max_depth': 7, 'l2_leaf_reg': 10.287509791866576, 'one_hot_max_size': 10, 'auto_class_weights': 'Balanced'}. Best is trial 43 with value: 0.8628189010522164.\u001b[0m\n",
      "\u001b[32m[I 2021-02-17 02:26:39,562]\u001b[0m Trial 46 finished with value: 0.8602585888878375 and parameters: {'iterations': 1200, 'learning_rate': 0.2533464487929816, 'random_strength': 10, 'bagging_temperature': 6, 'max_bin': 20, 'grow_policy': 'Depthwise', 'min_data_in_leaf': 8, 'max_depth': 5, 'l2_leaf_reg': 63.01880613962544, 'one_hot_max_size': 10, 'auto_class_weights': 'Balanced'}. Best is trial 43 with value: 0.8628189010522164.\u001b[0m\n"
     ]
    },
    {
     "name": "stdout",
     "output_type": "stream",
     "text": [
      "Stopped by overfitting detector  (10 iterations wait)\n"
     ]
    },
    {
     "name": "stderr",
     "output_type": "stream",
     "text": [
      "\u001b[32m[I 2021-02-17 02:27:05,906]\u001b[0m Trial 47 finished with value: 0.8614314481756443 and parameters: {'iterations': 1500, 'learning_rate': 0.09233047273917006, 'random_strength': 9, 'bagging_temperature': 9, 'max_bin': 10, 'grow_policy': 'SymmetricTree', 'min_data_in_leaf': 10, 'max_depth': 8, 'l2_leaf_reg': 95.2433470499676, 'one_hot_max_size': 5, 'auto_class_weights': 'SqrtBalanced'}. Best is trial 43 with value: 0.8628189010522164.\u001b[0m\n"
     ]
    },
    {
     "name": "stdout",
     "output_type": "stream",
     "text": [
      "Stopped by overfitting detector  (10 iterations wait)\n"
     ]
    },
    {
     "name": "stderr",
     "output_type": "stream",
     "text": [
      "\u001b[32m[I 2021-02-17 02:27:42,278]\u001b[0m Trial 48 finished with value: 0.8620117436511997 and parameters: {'iterations': 500, 'learning_rate': 0.05910864313515036, 'random_strength': 10, 'bagging_temperature': 5, 'max_bin': 20, 'grow_policy': 'SymmetricTree', 'min_data_in_leaf': 9, 'max_depth': 7, 'l2_leaf_reg': 4.8256119684481265, 'one_hot_max_size': 10, 'auto_class_weights': 'Balanced'}. Best is trial 43 with value: 0.8628189010522164.\u001b[0m\n"
     ]
    },
    {
     "name": "stdout",
     "output_type": "stream",
     "text": [
      "Stopped by overfitting detector  (10 iterations wait)\n"
     ]
    },
    {
     "name": "stderr",
     "output_type": "stream",
     "text": [
      "\u001b[32m[I 2021-02-17 02:28:13,440]\u001b[0m Trial 49 finished with value: 0.8620452402442842 and parameters: {'iterations': 500, 'learning_rate': 0.056721079608529255, 'random_strength': 9, 'bagging_temperature': 4, 'max_bin': 6, 'grow_policy': 'SymmetricTree', 'min_data_in_leaf': 6, 'max_depth': 6, 'l2_leaf_reg': 5.3512189414574705, 'one_hot_max_size': 10, 'auto_class_weights': 'Balanced'}. Best is trial 43 with value: 0.8628189010522164.\u001b[0m\n"
     ]
    },
    {
     "name": "stdout",
     "output_type": "stream",
     "text": [
      "Stopped by overfitting detector  (10 iterations wait)\n"
     ]
    },
    {
     "name": "stderr",
     "output_type": "stream",
     "text": [
      "\u001b[32m[I 2021-02-17 02:28:50,569]\u001b[0m Trial 50 finished with value: 0.8622923239683138 and parameters: {'iterations': 500, 'learning_rate': 0.04192853723185702, 'random_strength': 8, 'bagging_temperature': 4, 'max_bin': 6, 'grow_policy': 'Lossguide', 'min_data_in_leaf': 6, 'max_depth': 5, 'l2_leaf_reg': 0.6513400670834688, 'one_hot_max_size': 10, 'auto_class_weights': 'Balanced'}. Best is trial 43 with value: 0.8628189010522164.\u001b[0m\n"
     ]
    },
    {
     "name": "stdout",
     "output_type": "stream",
     "text": [
      "Stopped by overfitting detector  (10 iterations wait)\n"
     ]
    },
    {
     "name": "stderr",
     "output_type": "stream",
     "text": [
      "\u001b[32m[I 2021-02-17 02:29:09,173]\u001b[0m Trial 51 finished with value: 0.8568569561359218 and parameters: {'iterations': 200, 'learning_rate': 0.04160025060921315, 'random_strength': 8, 'bagging_temperature': 4, 'max_bin': 6, 'grow_policy': 'Lossguide', 'min_data_in_leaf': 6, 'max_depth': 5, 'l2_leaf_reg': 0.7555161140528094, 'one_hot_max_size': 10, 'auto_class_weights': 'Balanced'}. Best is trial 43 with value: 0.8628189010522164.\u001b[0m\n",
      "\u001b[32m[I 2021-02-17 02:29:37,594]\u001b[0m Trial 52 finished with value: 0.8621902474273602 and parameters: {'iterations': 500, 'learning_rate': 0.07329192392784331, 'random_strength': 9, 'bagging_temperature': 3, 'max_bin': 6, 'grow_policy': 'Lossguide', 'min_data_in_leaf': 5, 'max_depth': 4, 'l2_leaf_reg': 14.58670726905145, 'one_hot_max_size': 10, 'auto_class_weights': 'Balanced'}. Best is trial 43 with value: 0.8628189010522164.\u001b[0m\n"
     ]
    },
    {
     "name": "stdout",
     "output_type": "stream",
     "text": [
      "Stopped by overfitting detector  (10 iterations wait)\n"
     ]
    },
    {
     "name": "stderr",
     "output_type": "stream",
     "text": [
      "\u001b[32m[I 2021-02-17 02:30:02,870]\u001b[0m Trial 53 finished with value: 0.8624964492575723 and parameters: {'iterations': 500, 'learning_rate': 0.07253083471785571, 'random_strength': 6, 'bagging_temperature': 5, 'max_bin': 6, 'grow_policy': 'Lossguide', 'min_data_in_leaf': 5, 'max_depth': 4, 'l2_leaf_reg': 22.98843930329072, 'one_hot_max_size': 10, 'auto_class_weights': 'Balanced'}. Best is trial 43 with value: 0.8628189010522164.\u001b[0m\n"
     ]
    },
    {
     "name": "stdout",
     "output_type": "stream",
     "text": [
      "Stopped by overfitting detector  (10 iterations wait)\n"
     ]
    },
    {
     "name": "stderr",
     "output_type": "stream",
     "text": [
      "\u001b[32m[I 2021-02-17 02:30:43,400]\u001b[0m Trial 54 finished with value: 0.8576171145804865 and parameters: {'iterations': 500, 'learning_rate': 0.017936089217252614, 'random_strength': 6, 'bagging_temperature': 5, 'max_bin': 6, 'grow_policy': 'Lossguide', 'min_data_in_leaf': 4, 'max_depth': 4, 'l2_leaf_reg': 31.27361535509004, 'one_hot_max_size': 10, 'auto_class_weights': 'Balanced'}. Best is trial 43 with value: 0.8628189010522164.\u001b[0m\n",
      "\u001b[32m[I 2021-02-17 02:31:04,463]\u001b[0m Trial 55 finished with value: 0.8623314647519738 and parameters: {'iterations': 500, 'learning_rate': 0.08222021943922227, 'random_strength': 6, 'bagging_temperature': 5, 'max_bin': 6, 'grow_policy': 'Lossguide', 'min_data_in_leaf': 5, 'max_depth': 4, 'l2_leaf_reg': 2.5013696924716973, 'one_hot_max_size': 10, 'auto_class_weights': 'Balanced'}. Best is trial 43 with value: 0.8628189010522164.\u001b[0m\n"
     ]
    },
    {
     "name": "stdout",
     "output_type": "stream",
     "text": [
      "Stopped by overfitting detector  (10 iterations wait)\n"
     ]
    },
    {
     "name": "stderr",
     "output_type": "stream",
     "text": [
      "\u001b[32m[I 2021-02-17 02:31:18,140]\u001b[0m Trial 56 finished with value: 0.8610512242661583 and parameters: {'iterations': 500, 'learning_rate': 0.11412893766081442, 'random_strength': 6, 'bagging_temperature': 4, 'max_bin': 6, 'grow_policy': 'Lossguide', 'min_data_in_leaf': 3, 'max_depth': 4, 'l2_leaf_reg': 0.15433506787685775, 'one_hot_max_size': 10, 'auto_class_weights': 'Balanced'}. Best is trial 43 with value: 0.8628189010522164.\u001b[0m\n"
     ]
    },
    {
     "name": "stdout",
     "output_type": "stream",
     "text": [
      "Stopped by overfitting detector  (10 iterations wait)\n"
     ]
    },
    {
     "name": "stderr",
     "output_type": "stream",
     "text": [
      "\u001b[32m[I 2021-02-17 02:31:36,692]\u001b[0m Trial 57 finished with value: 0.8613923673116105 and parameters: {'iterations': 500, 'learning_rate': 0.085141915740434, 'random_strength': 7, 'bagging_temperature': 5, 'max_bin': 6, 'grow_policy': 'Lossguide', 'min_data_in_leaf': 6, 'max_depth': 5, 'l2_leaf_reg': 2.5141006580046037, 'one_hot_max_size': 10, 'auto_class_weights': 'Balanced'}. Best is trial 43 with value: 0.8628189010522164.\u001b[0m\n"
     ]
    },
    {
     "name": "stdout",
     "output_type": "stream",
     "text": [
      "Stopped by overfitting detector  (10 iterations wait)\n"
     ]
    },
    {
     "name": "stderr",
     "output_type": "stream",
     "text": [
      "\u001b[32m[I 2021-02-17 02:31:52,378]\u001b[0m Trial 58 finished with value: 0.8612630878227835 and parameters: {'iterations': 500, 'learning_rate': 0.09589713030939544, 'random_strength': 6, 'bagging_temperature': 3, 'max_bin': 6, 'grow_policy': 'Lossguide', 'min_data_in_leaf': 7, 'max_depth': 4, 'l2_leaf_reg': 0.43878407336956, 'one_hot_max_size': 1024, 'auto_class_weights': 'Balanced'}. Best is trial 43 with value: 0.8628189010522164.\u001b[0m\n"
     ]
    },
    {
     "name": "stdout",
     "output_type": "stream",
     "text": [
      "Stopped by overfitting detector  (10 iterations wait)\n"
     ]
    },
    {
     "name": "stderr",
     "output_type": "stream",
     "text": [
      "\u001b[32m[I 2021-02-17 02:32:07,086]\u001b[0m Trial 59 finished with value: 0.8615545933637773 and parameters: {'iterations': 500, 'learning_rate': 0.12723347031619192, 'random_strength': 5, 'bagging_temperature': 5, 'max_bin': 6, 'grow_policy': 'Lossguide', 'min_data_in_leaf': 8, 'max_depth': 3, 'l2_leaf_reg': 15.782010297515773, 'one_hot_max_size': 10, 'auto_class_weights': 'Balanced'}. Best is trial 43 with value: 0.8628189010522164.\u001b[0m\n"
     ]
    },
    {
     "name": "stdout",
     "output_type": "stream",
     "text": [
      "Stopped by overfitting detector  (10 iterations wait)\n"
     ]
    },
    {
     "name": "stderr",
     "output_type": "stream",
     "text": [
      "\u001b[32m[I 2021-02-17 02:32:24,763]\u001b[0m Trial 60 finished with value: 0.8603807833688792 and parameters: {'iterations': 500, 'learning_rate': 0.06767390848361435, 'random_strength': 6, 'bagging_temperature': 6, 'max_bin': 6, 'grow_policy': 'Lossguide', 'min_data_in_leaf': 6, 'max_depth': 5, 'l2_leaf_reg': 0.0038331250495747165, 'one_hot_max_size': 500, 'auto_class_weights': 'SqrtBalanced'}. Best is trial 43 with value: 0.8628189010522164.\u001b[0m\n"
     ]
    },
    {
     "name": "stdout",
     "output_type": "stream",
     "text": [
      "Stopped by overfitting detector  (10 iterations wait)\n"
     ]
    },
    {
     "name": "stderr",
     "output_type": "stream",
     "text": [
      "\u001b[32m[I 2021-02-17 02:32:48,765]\u001b[0m Trial 61 finished with value: 0.8593328958417565 and parameters: {'iterations': 300, 'learning_rate': 0.04002795336574851, 'random_strength': 7, 'bagging_temperature': 6, 'max_bin': 4, 'grow_policy': 'Lossguide', 'min_data_in_leaf': 5, 'max_depth': 4, 'l2_leaf_reg': 34.160901732588805, 'one_hot_max_size': 10, 'auto_class_weights': 'Balanced'}. Best is trial 43 with value: 0.8628189010522164.\u001b[0m\n",
      "\u001b[32m[I 2021-02-17 02:33:12,403]\u001b[0m Trial 62 finished with value: 0.8612478466653123 and parameters: {'iterations': 500, 'learning_rate': 0.08298667194068889, 'random_strength': 8, 'bagging_temperature': 4, 'max_bin': 6, 'grow_policy': 'Lossguide', 'min_data_in_leaf': 5, 'max_depth': 6, 'l2_leaf_reg': 8.990875597184502, 'one_hot_max_size': 10, 'auto_class_weights': 'Balanced'}. Best is trial 43 with value: 0.8628189010522164.\u001b[0m\n"
     ]
    },
    {
     "name": "stdout",
     "output_type": "stream",
     "text": [
      "Stopped by overfitting detector  (10 iterations wait)\n"
     ]
    },
    {
     "name": "stderr",
     "output_type": "stream",
     "text": [
      "\u001b[32m[I 2021-02-17 02:33:58,208]\u001b[0m Trial 63 finished with value: 0.8629142688449043 and parameters: {'iterations': 500, 'learning_rate': 0.03491751310099027, 'random_strength': 5, 'bagging_temperature': 5, 'max_bin': 8, 'grow_policy': 'Lossguide', 'min_data_in_leaf': 4, 'max_depth': 5, 'l2_leaf_reg': 1.8211023402465396, 'one_hot_max_size': 10, 'auto_class_weights': 'Balanced'}. Best is trial 63 with value: 0.8629142688449043.\u001b[0m\n"
     ]
    },
    {
     "name": "stdout",
     "output_type": "stream",
     "text": [
      "Stopped by overfitting detector  (10 iterations wait)\n"
     ]
    },
    {
     "name": "stderr",
     "output_type": "stream",
     "text": [
      "\u001b[32m[I 2021-02-17 02:34:31,979]\u001b[0m Trial 64 finished with value: 0.8623054972865773 and parameters: {'iterations': 500, 'learning_rate': 0.04107559164106448, 'random_strength': 4, 'bagging_temperature': 5, 'max_bin': 8, 'grow_policy': 'Lossguide', 'min_data_in_leaf': 4, 'max_depth': 5, 'l2_leaf_reg': 0.7995434990095341, 'one_hot_max_size': 10, 'auto_class_weights': 'Balanced'}. Best is trial 63 with value: 0.8629142688449043.\u001b[0m\n"
     ]
    },
    {
     "name": "stdout",
     "output_type": "stream",
     "text": [
      "Stopped by overfitting detector  (10 iterations wait)\n"
     ]
    },
    {
     "name": "stderr",
     "output_type": "stream",
     "text": [
      "\u001b[32m[I 2021-02-17 02:34:54,473]\u001b[0m Trial 65 finished with value: 0.8625410372679563 and parameters: {'iterations': 500, 'learning_rate': 0.07106096822317107, 'random_strength': 4, 'bagging_temperature': 5, 'max_bin': 8, 'grow_policy': 'Lossguide', 'min_data_in_leaf': 4, 'max_depth': 5, 'l2_leaf_reg': 2.273919878847142, 'one_hot_max_size': 10, 'auto_class_weights': 'Balanced'}. Best is trial 63 with value: 0.8629142688449043.\u001b[0m\n"
     ]
    },
    {
     "name": "stdout",
     "output_type": "stream",
     "text": [
      "Stopped by overfitting detector  (10 iterations wait)\n"
     ]
    },
    {
     "name": "stderr",
     "output_type": "stream",
     "text": [
      "\u001b[32m[I 2021-02-17 02:35:12,578]\u001b[0m Trial 66 finished with value: 0.8619768911739152 and parameters: {'iterations': 500, 'learning_rate': 0.07435748178285664, 'random_strength': 3, 'bagging_temperature': 5, 'max_bin': 8, 'grow_policy': 'Lossguide', 'min_data_in_leaf': 3, 'max_depth': 3, 'l2_leaf_reg': 2.341213045555641, 'one_hot_max_size': 100, 'auto_class_weights': 'Balanced'}. Best is trial 63 with value: 0.8629142688449043.\u001b[0m\n"
     ]
    },
    {
     "name": "stdout",
     "output_type": "stream",
     "text": [
      "Stopped by overfitting detector  (10 iterations wait)\n"
     ]
    },
    {
     "name": "stderr",
     "output_type": "stream",
     "text": [
      "\u001b[32m[I 2021-02-17 02:35:27,906]\u001b[0m Trial 67 finished with value: 0.8613733031099311 and parameters: {'iterations': 500, 'learning_rate': 0.10061698498467272, 'random_strength': 4, 'bagging_temperature': 5, 'max_bin': 8, 'grow_policy': 'Lossguide', 'min_data_in_leaf': 4, 'max_depth': 6, 'l2_leaf_reg': 0.10944962662679808, 'one_hot_max_size': 10, 'auto_class_weights': 'Balanced'}. Best is trial 63 with value: 0.8629142688449043.\u001b[0m\n"
     ]
    },
    {
     "name": "stdout",
     "output_type": "stream",
     "text": [
      "Stopped by overfitting detector  (10 iterations wait)\n"
     ]
    },
    {
     "name": "stderr",
     "output_type": "stream",
     "text": [
      "\u001b[32m[I 2021-02-17 02:35:51,483]\u001b[0m Trial 68 finished with value: 0.8613503283172014 and parameters: {'iterations': 500, 'learning_rate': 0.05331669990575415, 'random_strength': 5, 'bagging_temperature': 6, 'max_bin': 8, 'grow_policy': 'Lossguide', 'min_data_in_leaf': 3, 'max_depth': 4, 'l2_leaf_reg': 0.00018285984431075052, 'one_hot_max_size': 12, 'auto_class_weights': 'Balanced'}. Best is trial 63 with value: 0.8629142688449043.\u001b[0m\n"
     ]
    },
    {
     "name": "stdout",
     "output_type": "stream",
     "text": [
      "Stopped by overfitting detector  (10 iterations wait)\n"
     ]
    },
    {
     "name": "stderr",
     "output_type": "stream",
     "text": [
      "\u001b[32m[I 2021-02-17 02:35:59,589]\u001b[0m Trial 69 finished with value: 0.8566885276248998 and parameters: {'iterations': 100, 'learning_rate': 0.0641831119378872, 'random_strength': 5, 'bagging_temperature': 6, 'max_bin': 8, 'grow_policy': 'Depthwise', 'min_data_in_leaf': 4, 'max_depth': 5, 'l2_leaf_reg': 6.043144943879615, 'one_hot_max_size': 10, 'auto_class_weights': 'Balanced'}. Best is trial 63 with value: 0.8629142688449043.\u001b[0m\n",
      "\u001b[32m[I 2021-02-17 02:36:50,508]\u001b[0m Trial 70 finished with value: 0.8604960386211935 and parameters: {'iterations': 500, 'learning_rate': 0.013594721532242872, 'random_strength': 2, 'bagging_temperature': 4, 'max_bin': 8, 'grow_policy': 'Lossguide', 'min_data_in_leaf': 2, 'max_depth': 6, 'l2_leaf_reg': 1.77312277797755, 'one_hot_max_size': 10, 'auto_class_weights': 'Balanced'}. Best is trial 63 with value: 0.8629142688449043.\u001b[0m\n",
      "\u001b[32m[I 2021-02-17 02:37:41,634]\u001b[0m Trial 71 finished with value: 0.862710225312353 and parameters: {'iterations': 500, 'learning_rate': 0.0350151166318715, 'random_strength': 4, 'bagging_temperature': 5, 'max_bin': 8, 'grow_policy': 'Lossguide', 'min_data_in_leaf': 4, 'max_depth': 5, 'l2_leaf_reg': 0.9621617246015488, 'one_hot_max_size': 10, 'auto_class_weights': 'Balanced'}. Best is trial 63 with value: 0.8629142688449043.\u001b[0m\n"
     ]
    },
    {
     "name": "stdout",
     "output_type": "stream",
     "text": [
      "Stopped by overfitting detector  (10 iterations wait)\n"
     ]
    },
    {
     "name": "stderr",
     "output_type": "stream",
     "text": [
      "\u001b[32m[I 2021-02-17 02:38:21,519]\u001b[0m Trial 72 finished with value: 0.8627817365905435 and parameters: {'iterations': 500, 'learning_rate': 0.035001908536129056, 'random_strength': 4, 'bagging_temperature': 5, 'max_bin': 8, 'grow_policy': 'Lossguide', 'min_data_in_leaf': 4, 'max_depth': 4, 'l2_leaf_reg': 3.13127627723157, 'one_hot_max_size': 10, 'auto_class_weights': 'Balanced'}. Best is trial 63 with value: 0.8629142688449043.\u001b[0m\n",
      "\u001b[32m[I 2021-02-17 02:38:40,970]\u001b[0m Trial 73 finished with value: 0.8567171783050588 and parameters: {'iterations': 200, 'learning_rate': 0.021780985189808935, 'random_strength': 3, 'bagging_temperature': 5, 'max_bin': 8, 'grow_policy': 'Lossguide', 'min_data_in_leaf': 2, 'max_depth': 5, 'l2_leaf_reg': 16.13766517425775, 'one_hot_max_size': 10, 'auto_class_weights': 'Balanced'}. Best is trial 63 with value: 0.8629142688449043.\u001b[0m\n",
      "\u001b[32m[I 2021-02-17 02:39:20,994]\u001b[0m Trial 74 finished with value: 0.8625779304204432 and parameters: {'iterations': 500, 'learning_rate': 0.03326560521656461, 'random_strength': 4, 'bagging_temperature': 6, 'max_bin': 8, 'grow_policy': 'Lossguide', 'min_data_in_leaf': 4, 'max_depth': 4, 'l2_leaf_reg': 0.336795984690881, 'one_hot_max_size': 10, 'auto_class_weights': 'Balanced'}. Best is trial 63 with value: 0.8629142688449043.\u001b[0m\n",
      "\u001b[32m[I 2021-02-17 02:40:00,152]\u001b[0m Trial 75 finished with value: 0.8479172875566358 and parameters: {'iterations': 500, 'learning_rate': 0.005173235743062648, 'random_strength': 4, 'bagging_temperature': 4, 'max_bin': 8, 'grow_policy': 'Lossguide', 'min_data_in_leaf': 4, 'max_depth': 4, 'l2_leaf_reg': 0.2896101424017571, 'one_hot_max_size': 10, 'auto_class_weights': 'Balanced'}. Best is trial 63 with value: 0.8629142688449043.\u001b[0m\n",
      "\u001b[32m[I 2021-02-17 02:40:27,883]\u001b[0m Trial 76 finished with value: 0.8614776343294792 and parameters: {'iterations': 500, 'learning_rate': 0.03457634623751632, 'random_strength': 4, 'bagging_temperature': 5, 'max_bin': 8, 'grow_policy': 'Lossguide', 'min_data_in_leaf': 4, 'max_depth': 3, 'l2_leaf_reg': 0.07457086425340669, 'one_hot_max_size': 1024, 'auto_class_weights': 'Balanced'}. Best is trial 63 with value: 0.8629142688449043.\u001b[0m\n",
      "\u001b[32m[I 2021-02-17 02:41:03,744]\u001b[0m Trial 77 finished with value: 0.8625625729970599 and parameters: {'iterations': 500, 'learning_rate': 0.0503357960741875, 'random_strength': 4, 'bagging_temperature': 6, 'max_bin': 8, 'grow_policy': 'Lossguide', 'min_data_in_leaf': 4, 'max_depth': 4, 'l2_leaf_reg': 1.2106627375724541, 'one_hot_max_size': 10, 'auto_class_weights': 'Balanced'}. Best is trial 63 with value: 0.8629142688449043.\u001b[0m\n"
     ]
    },
    {
     "name": "stdout",
     "output_type": "stream",
     "text": [
      "Stopped by overfitting detector  (10 iterations wait)\n"
     ]
    },
    {
     "name": "stderr",
     "output_type": "stream",
     "text": [
      "\u001b[32m[I 2021-02-17 02:41:35,123]\u001b[0m Trial 78 finished with value: 0.861661843671647 and parameters: {'iterations': 500, 'learning_rate': 0.03262756198451842, 'random_strength': 3, 'bagging_temperature': 7, 'max_bin': 8, 'grow_policy': 'Lossguide', 'min_data_in_leaf': 4, 'max_depth': 3, 'l2_leaf_reg': 0.447397179748981, 'one_hot_max_size': 10, 'auto_class_weights': 'Balanced'}. Best is trial 63 with value: 0.8629142688449043.\u001b[0m\n",
      "\u001b[32m[I 2021-02-17 02:42:05,616]\u001b[0m Trial 79 finished with value: 0.8624566134591856 and parameters: {'iterations': 500, 'learning_rate': 0.0452970152697529, 'random_strength': 4, 'bagging_temperature': 6, 'max_bin': 8, 'grow_policy': 'Lossguide', 'min_data_in_leaf': 3, 'max_depth': 4, 'l2_leaf_reg': 0.023319854557215667, 'one_hot_max_size': 10, 'auto_class_weights': 'Balanced'}. Best is trial 63 with value: 0.8629142688449043.\u001b[0m\n"
     ]
    },
    {
     "name": "stdout",
     "output_type": "stream",
     "text": [
      "Stopped by overfitting detector  (10 iterations wait)\n"
     ]
    },
    {
     "name": "stderr",
     "output_type": "stream",
     "text": [
      "\u001b[32m[I 2021-02-17 02:42:44,809]\u001b[0m Trial 80 finished with value: 0.8540335533364083 and parameters: {'iterations': 500, 'learning_rate': 0.010032703148291439, 'random_strength': 5, 'bagging_temperature': 5, 'max_bin': 8, 'grow_policy': 'Lossguide', 'min_data_in_leaf': 3, 'max_depth': 4, 'l2_leaf_reg': 1.027664406808666, 'one_hot_max_size': 10, 'auto_class_weights': 'Balanced'}. Best is trial 63 with value: 0.8629142688449043.\u001b[0m\n",
      "\u001b[32m[I 2021-02-17 02:43:19,053]\u001b[0m Trial 81 finished with value: 0.8629017607304437 and parameters: {'iterations': 500, 'learning_rate': 0.0494773083884324, 'random_strength': 4, 'bagging_temperature': 6, 'max_bin': 8, 'grow_policy': 'Lossguide', 'min_data_in_leaf': 4, 'max_depth': 4, 'l2_leaf_reg': 3.3307922351471193, 'one_hot_max_size': 10, 'auto_class_weights': 'Balanced'}. Best is trial 63 with value: 0.8629142688449043.\u001b[0m\n"
     ]
    },
    {
     "name": "stdout",
     "output_type": "stream",
     "text": [
      "Stopped by overfitting detector  (10 iterations wait)\n"
     ]
    },
    {
     "name": "stderr",
     "output_type": "stream",
     "text": [
      "\u001b[32m[I 2021-02-17 02:43:50,426]\u001b[0m Trial 82 finished with value: 0.8624013913198265 and parameters: {'iterations': 500, 'learning_rate': 0.049542492974861296, 'random_strength': 4, 'bagging_temperature': 6, 'max_bin': 8, 'grow_policy': 'Lossguide', 'min_data_in_leaf': 4, 'max_depth': 3, 'l2_leaf_reg': 0.20418092319233863, 'one_hot_max_size': 10, 'auto_class_weights': 'Balanced'}. Best is trial 63 with value: 0.8629142688449043.\u001b[0m\n",
      "\u001b[32m[I 2021-02-17 02:44:13,826]\u001b[0m Trial 83 finished with value: 0.8619764751113526 and parameters: {'iterations': 500, 'learning_rate': 0.06873506936751295, 'random_strength': 5, 'bagging_temperature': 7, 'max_bin': 8, 'grow_policy': 'Lossguide', 'min_data_in_leaf': 4, 'max_depth': 4, 'l2_leaf_reg': 3.5171984820667594, 'one_hot_max_size': 10, 'auto_class_weights': 'Balanced'}. Best is trial 63 with value: 0.8629142688449043.\u001b[0m\n"
     ]
    },
    {
     "name": "stdout",
     "output_type": "stream",
     "text": [
      "Stopped by overfitting detector  (10 iterations wait)\n"
     ]
    },
    {
     "name": "stderr",
     "output_type": "stream",
     "text": [
      "\u001b[32m[I 2021-02-17 02:44:53,678]\u001b[0m Trial 84 finished with value: 0.8627432322254434 and parameters: {'iterations': 500, 'learning_rate': 0.03421553291010362, 'random_strength': 4, 'bagging_temperature': 6, 'max_bin': 8, 'grow_policy': 'Lossguide', 'min_data_in_leaf': 3, 'max_depth': 4, 'l2_leaf_reg': 1.279551978103478, 'one_hot_max_size': 10, 'auto_class_weights': 'Balanced'}. Best is trial 63 with value: 0.8629142688449043.\u001b[0m\n",
      "\u001b[32m[I 2021-02-17 02:45:36,135]\u001b[0m Trial 85 finished with value: 0.8625860809785129 and parameters: {'iterations': 500, 'learning_rate': 0.033269810078548415, 'random_strength': 4, 'bagging_temperature': 6, 'max_bin': 8, 'grow_policy': 'Lossguide', 'min_data_in_leaf': 3, 'max_depth': 5, 'l2_leaf_reg': 0.10983660655047413, 'one_hot_max_size': 10, 'auto_class_weights': 'Balanced'}. Best is trial 63 with value: 0.8629142688449043.\u001b[0m\n"
     ]
    },
    {
     "name": "stdout",
     "output_type": "stream",
     "text": [
      "Stopped by overfitting detector  (10 iterations wait)\n"
     ]
    },
    {
     "name": "stderr",
     "output_type": "stream",
     "text": [
      "\u001b[32m[I 2021-02-17 02:46:15,406]\u001b[0m Trial 86 finished with value: 0.8626428835931395 and parameters: {'iterations': 1500, 'learning_rate': 0.03404153880322145, 'random_strength': 3, 'bagging_temperature': 6, 'max_bin': 8, 'grow_policy': 'Lossguide', 'min_data_in_leaf': 3, 'max_depth': 4, 'l2_leaf_reg': 0.11690785082262126, 'one_hot_max_size': 10, 'auto_class_weights': 'Balanced'}. Best is trial 63 with value: 0.8629142688449043.\u001b[0m\n"
     ]
    },
    {
     "name": "stdout",
     "output_type": "stream",
     "text": [
      "Stopped by overfitting detector  (10 iterations wait)\n"
     ]
    },
    {
     "name": "stderr",
     "output_type": "stream",
     "text": [
      "\u001b[32m[I 2021-02-17 02:47:08,187]\u001b[0m Trial 87 finished with value: 0.8626456622293277 and parameters: {'iterations': 1500, 'learning_rate': 0.020650041705929434, 'random_strength': 3, 'bagging_temperature': 7, 'max_bin': 8, 'grow_policy': 'Lossguide', 'min_data_in_leaf': 2, 'max_depth': 5, 'l2_leaf_reg': 0.027931864894058415, 'one_hot_max_size': 500, 'auto_class_weights': 'Balanced'}. Best is trial 63 with value: 0.8629142688449043.\u001b[0m\n"
     ]
    },
    {
     "name": "stdout",
     "output_type": "stream",
     "text": [
      "Stopped by overfitting detector  (10 iterations wait)\n"
     ]
    },
    {
     "name": "stderr",
     "output_type": "stream",
     "text": [
      "\u001b[32m[I 2021-02-17 02:48:24,535]\u001b[0m Trial 88 finished with value: 0.8626965497081441 and parameters: {'iterations': 1500, 'learning_rate': 0.014966381186391205, 'random_strength': 2, 'bagging_temperature': 7, 'max_bin': 8, 'grow_policy': 'Lossguide', 'min_data_in_leaf': 1, 'max_depth': 5, 'l2_leaf_reg': 0.02907660759142206, 'one_hot_max_size': 500, 'auto_class_weights': 'Balanced'}. Best is trial 63 with value: 0.8629142688449043.\u001b[0m\n"
     ]
    },
    {
     "name": "stdout",
     "output_type": "stream",
     "text": [
      "Stopped by overfitting detector  (10 iterations wait)\n"
     ]
    },
    {
     "name": "stderr",
     "output_type": "stream",
     "text": [
      "\u001b[32m[I 2021-02-17 02:50:30,038]\u001b[0m Trial 89 finished with value: 0.8510351179301624 and parameters: {'iterations': 1500, 'learning_rate': 0.0013992145042054163, 'random_strength': 2, 'bagging_temperature': 8, 'max_bin': 8, 'grow_policy': 'Lossguide', 'min_data_in_leaf': 1, 'max_depth': 5, 'l2_leaf_reg': 0.012752600162201205, 'one_hot_max_size': 500, 'auto_class_weights': 'SqrtBalanced'}. Best is trial 63 with value: 0.8629142688449043.\u001b[0m\n",
      "\u001b[32m[I 2021-02-17 02:51:20,823]\u001b[0m Trial 90 finished with value: 0.862443623043017 and parameters: {'iterations': 1500, 'learning_rate': 0.020255318965288774, 'random_strength': 2, 'bagging_temperature': 7, 'max_bin': 8, 'grow_policy': 'Lossguide', 'min_data_in_leaf': 2, 'max_depth': 5, 'l2_leaf_reg': 0.0032786412356445942, 'one_hot_max_size': 500, 'auto_class_weights': 'Balanced'}. Best is trial 63 with value: 0.8629142688449043.\u001b[0m\n"
     ]
    },
    {
     "name": "stdout",
     "output_type": "stream",
     "text": [
      "Stopped by overfitting detector  (10 iterations wait)\n"
     ]
    },
    {
     "name": "stderr",
     "output_type": "stream",
     "text": [
      "\u001b[32m[I 2021-02-17 02:52:32,738]\u001b[0m Trial 91 finished with value: 0.8627868022639097 and parameters: {'iterations': 1500, 'learning_rate': 0.016208026164651508, 'random_strength': 3, 'bagging_temperature': 7, 'max_bin': 8, 'grow_policy': 'Lossguide', 'min_data_in_leaf': 2, 'max_depth': 5, 'l2_leaf_reg': 0.03229965403267229, 'one_hot_max_size': 500, 'auto_class_weights': 'Balanced'}. Best is trial 63 with value: 0.8629142688449043.\u001b[0m\n"
     ]
    },
    {
     "name": "stdout",
     "output_type": "stream",
     "text": [
      "Stopped by overfitting detector  (10 iterations wait)\n"
     ]
    },
    {
     "name": "stderr",
     "output_type": "stream",
     "text": [
      "\u001b[32m[I 2021-02-17 02:53:40,379]\u001b[0m Trial 92 finished with value: 0.8623905719396159 and parameters: {'iterations': 1500, 'learning_rate': 0.016219596687074282, 'random_strength': 3, 'bagging_temperature': 8, 'max_bin': 8, 'grow_policy': 'Lossguide', 'min_data_in_leaf': 2, 'max_depth': 5, 'l2_leaf_reg': 0.020324000210090877, 'one_hot_max_size': 500, 'auto_class_weights': 'Balanced'}. Best is trial 63 with value: 0.8629142688449043.\u001b[0m\n"
     ]
    },
    {
     "name": "stdout",
     "output_type": "stream",
     "text": [
      "Stopped by overfitting detector  (10 iterations wait)\n"
     ]
    },
    {
     "name": "stderr",
     "output_type": "stream",
     "text": [
      "\u001b[32m[I 2021-02-17 02:54:17,055]\u001b[0m Trial 93 finished with value: 0.8623952786907809 and parameters: {'iterations': 1500, 'learning_rate': 0.024683334828658334, 'random_strength': 1, 'bagging_temperature': 7, 'max_bin': 8, 'grow_policy': 'Lossguide', 'min_data_in_leaf': 1, 'max_depth': 5, 'l2_leaf_reg': 0.005206609735610267, 'one_hot_max_size': 500, 'auto_class_weights': 'Balanced'}. Best is trial 63 with value: 0.8629142688449043.\u001b[0m\n"
     ]
    },
    {
     "name": "stdout",
     "output_type": "stream",
     "text": [
      "Stopped by overfitting detector  (10 iterations wait)\n"
     ]
    },
    {
     "name": "stderr",
     "output_type": "stream",
     "text": [
      "\u001b[32m[I 2021-02-17 02:55:59,178]\u001b[0m Trial 94 finished with value: 0.8601159023908957 and parameters: {'iterations': 1500, 'learning_rate': 0.006850829104537047, 'random_strength': 3, 'bagging_temperature': 7, 'max_bin': 8, 'grow_policy': 'Lossguide', 'min_data_in_leaf': 2, 'max_depth': 4, 'l2_leaf_reg': 0.037270252908201226, 'one_hot_max_size': 500, 'auto_class_weights': 'Balanced'}. Best is trial 63 with value: 0.8629142688449043.\u001b[0m\n",
      "\u001b[32m[I 2021-02-17 02:57:17,634]\u001b[0m Trial 95 finished with value: 0.863132450431481 and parameters: {'iterations': 1500, 'learning_rate': 0.015393853845985255, 'random_strength': 3, 'bagging_temperature': 7, 'max_bin': 8, 'grow_policy': 'Lossguide', 'min_data_in_leaf': 1, 'max_depth': 5, 'l2_leaf_reg': 0.03977425239611938, 'one_hot_max_size': 500, 'auto_class_weights': 'Balanced'}. Best is trial 95 with value: 0.863132450431481.\u001b[0m\n"
     ]
    },
    {
     "name": "stdout",
     "output_type": "stream",
     "text": [
      "Stopped by overfitting detector  (10 iterations wait)\n"
     ]
    },
    {
     "name": "stderr",
     "output_type": "stream",
     "text": [
      "\u001b[32m[I 2021-02-17 02:58:40,984]\u001b[0m Trial 96 finished with value: 0.8626726388656365 and parameters: {'iterations': 1500, 'learning_rate': 0.012469721707158859, 'random_strength': 1, 'bagging_temperature': 8, 'max_bin': 30, 'grow_policy': 'Lossguide', 'min_data_in_leaf': 1, 'max_depth': 5, 'l2_leaf_reg': 0.0005650382037853742, 'one_hot_max_size': 500, 'auto_class_weights': 'Balanced'}. Best is trial 95 with value: 0.863132450431481.\u001b[0m\n"
     ]
    },
    {
     "name": "stdout",
     "output_type": "stream",
     "text": [
      "Stopped by overfitting detector  (10 iterations wait)\n"
     ]
    },
    {
     "name": "stderr",
     "output_type": "stream",
     "text": [
      "\u001b[32m[I 2021-02-17 02:59:33,794]\u001b[0m Trial 97 finished with value: 0.8622695225487712 and parameters: {'iterations': 1500, 'learning_rate': 0.014165527219236959, 'random_strength': 1, 'bagging_temperature': 8, 'max_bin': 30, 'grow_policy': 'Depthwise', 'min_data_in_leaf': 1, 'max_depth': 5, 'l2_leaf_reg': 0.00020647121997590114, 'one_hot_max_size': 500, 'auto_class_weights': 'Balanced'}. Best is trial 95 with value: 0.863132450431481.\u001b[0m\n"
     ]
    },
    {
     "name": "stdout",
     "output_type": "stream",
     "text": [
      "Stopped by overfitting detector  (10 iterations wait)\n"
     ]
    },
    {
     "name": "stderr",
     "output_type": "stream",
     "text": [
      "\u001b[32m[I 2021-02-17 03:00:14,194]\u001b[0m Trial 98 finished with value: 0.8616028724032899 and parameters: {'iterations': 1500, 'learning_rate': 0.02661898255265924, 'random_strength': 2, 'bagging_temperature': 8, 'max_bin': 30, 'grow_policy': 'Lossguide', 'min_data_in_leaf': 1, 'max_depth': 6, 'l2_leaf_reg': 0.0005062657170811357, 'one_hot_max_size': 500, 'auto_class_weights': 'Balanced'}. Best is trial 95 with value: 0.863132450431481.\u001b[0m\n"
     ]
    },
    {
     "name": "stdout",
     "output_type": "stream",
     "text": [
      "Stopped by overfitting detector  (10 iterations wait)\n"
     ]
    },
    {
     "name": "stderr",
     "output_type": "stream",
     "text": [
      "\u001b[32m[I 2021-02-17 03:02:18,705]\u001b[0m Trial 99 finished with value: 0.8587725661746266 and parameters: {'iterations': 1500, 'learning_rate': 0.0033222800504134065, 'random_strength': 2, 'bagging_temperature': 9, 'max_bin': 30, 'grow_policy': 'Lossguide', 'min_data_in_leaf': 1, 'max_depth': 5, 'l2_leaf_reg': 0.0014617936344147216, 'one_hot_max_size': 500, 'auto_class_weights': 'Balanced'}. Best is trial 95 with value: 0.863132450431481.\u001b[0m\n"
     ]
    }
   ],
   "source": [
    "sampler = optuna.samplers.TPESampler(seed=68)  # Make the sampler behave in a deterministic way.\n",
    "study2 = optuna.create_study(direction=\"maximize\", sampler=sampler)\n",
    "study2.optimize(objective2, n_trials=100)"
   ]
  },
  {
   "cell_type": "code",
   "execution_count": 37,
   "metadata": {},
   "outputs": [
    {
     "name": "stdout",
     "output_type": "stream",
     "text": [
      "Number of finished trials: 100\n",
      "Best trial:\n",
      "  Value: 0.863132450431481\n",
      "  Params: \n",
      "    iterations=1500,\n",
      "    learning_rate=0.015393853845985255,\n",
      "    random_strength=3,\n",
      "    bagging_temperature=7,\n",
      "    max_bin=8,\n",
      "    grow_policy=Lossguide,\n",
      "    min_data_in_leaf=1,\n",
      "    max_depth=5,\n",
      "    l2_leaf_reg=0.03977425239611938,\n",
      "    one_hot_max_size=500,\n",
      "    auto_class_weights=Balanced,\n"
     ]
    }
   ],
   "source": [
    "print(\"Number of finished trials: {}\".format(len(study2.trials)))\n",
    "print(\"Best trial:\")\n",
    "trial2 = study2.best_trial\n",
    "print(\"  Value: {}\".format(trial2.value))\n",
    "print(\"  Params: \")\n",
    "for key, value in trial2.params.items():\n",
    "    print(\"    {}={},\".format(key, value))\n"
   ]
  },
  {
   "cell_type": "code",
   "execution_count": 38,
   "metadata": {},
   "outputs": [],
   "source": [
    "final_model_se = CatBoostClassifier(verbose=False,  cat_features=categorical_features_indices, \n",
    "                                    **trial2.params)"
   ]
  },
  {
   "cell_type": "code",
   "execution_count": 39,
   "metadata": {},
   "outputs": [
    {
     "data": {
      "text/plain": [
       "<catboost.core.CatBoostClassifier at 0x7f87e2537d50>"
      ]
     },
     "execution_count": 39,
     "metadata": {},
     "output_type": "execute_result"
    }
   ],
   "source": [
    "final_model_se.fit(X_train, y_train.seasonal_vaccine)"
   ]
  },
  {
   "cell_type": "code",
   "execution_count": 40,
   "metadata": {},
   "outputs": [],
   "source": [
    "predictions_se = final_model_se.predict_proba(X_test)"
   ]
  },
  {
   "cell_type": "code",
   "execution_count": 41,
   "metadata": {},
   "outputs": [],
   "source": [
    "predictions_se = predictions_se[:,1].reshape(-1,1)"
   ]
  },
  {
   "cell_type": "code",
   "execution_count": 42,
   "metadata": {},
   "outputs": [
    {
     "data": {
      "image/png": "[encoded data removed]",
      "text/plain": [
       "<Figure size 720x576 with 1 Axes>"
      ]
     },
     "metadata": {
      "needs_background": "light"
     },
     "output_type": "display_data"
    }
   ],
   "source": [
    "fig, ax = plt.subplots(1, 1, figsize=(10, 8))\n",
    "plot_roc(\n",
    "    y_test['seasonal_vaccine'], \n",
    "    predictions_se, \n",
    "    'seasonal_vaccine',\n",
    "    ax=ax\n",
    ")"
   ]
  },
  {
   "cell_type": "code",
   "execution_count": 43,
   "metadata": {},
   "outputs": [
    {
     "data": {
      "text/plain": [
       "0.8610242609729017"
      ]
     },
     "execution_count": 43,
     "metadata": {},
     "output_type": "execute_result"
    }
   ],
   "source": [
    "roc_auc_score(y_test.seasonal_vaccine, predictions_se)"
   ]
  },
  {
   "cell_type": "markdown",
   "metadata": {},
   "source": [
    "## Combined score"
   ]
  },
  {
   "cell_type": "code",
   "execution_count": 44,
   "metadata": {},
   "outputs": [
    {
     "data": {
      "text/plain": [
       "0.8660603670105245"
      ]
     },
     "execution_count": 44,
     "metadata": {},
     "output_type": "execute_result"
    }
   ],
   "source": [
    "# Let's see the score combined of the two best predictions\n",
    "roc_auc_score(y_test, np.hstack((predictions_h1, predictions_se)))"
   ]
  },
  {
   "cell_type": "markdown",
   "metadata": {},
   "source": [
    "## Retrain on full dataset"
   ]
  },
  {
   "cell_type": "markdown",
   "metadata": {},
   "source": [
    "#### Seasonal"
   ]
  },
  {
   "cell_type": "code",
   "execution_count": 45,
   "metadata": {},
   "outputs": [],
   "source": [
    "final_model_se.fit(train, labels.seasonal_vaccine)"
   ]
  },
  {
   "cell_type": "code",
   "execution_count": 47,
   "metadata": {},
   "outputs": [],
   "source": [
    "final_se = final_model_se.predict_proba(test)"
   ]
  },
  {
   "cell_type": "code",
   "execution_count": 48,
   "metadata": {},
   "outputs": [],
   "source": [
    "final_se = final_se[:,1].reshape(-1,1)"
   ]
  },
  {
   "cell_type": "markdown",
   "metadata": {},
   "source": [
    "#### H1N1"
   ]
  },
  {
   "cell_type": "code",
   "execution_count": 50,
   "metadata": {},
   "outputs": [
    {
     "data": {
      "text/plain": [
       "<catboost.core.CatBoostClassifier at 0x7f87e2007bd0>"
      ]
     },
     "execution_count": 50,
     "metadata": {},
     "output_type": "execute_result"
    }
   ],
   "source": [
    "final_model.fit(train, labels.h1n1_vaccine)"
   ]
  },
  {
   "cell_type": "code",
   "execution_count": 51,
   "metadata": {},
   "outputs": [],
   "source": [
    "final_h1 = final_model.predict_proba(test)"
   ]
  },
  {
   "cell_type": "code",
   "execution_count": 52,
   "metadata": {},
   "outputs": [],
   "source": [
    "final_h1 = final_h1[:,1].reshape(-1,1)"
   ]
  },
  {
   "cell_type": "markdown",
   "metadata": {},
   "source": [
    "## Make submission"
   ]
  },
  {
   "cell_type": "code",
   "execution_count": 53,
   "metadata": {},
   "outputs": [],
   "source": [
    "submission_df = pd.read_csv(\"./submission_format.csv\", \n",
    "                            index_col=\"respondent_id\")"
   ]
  },
  {
   "cell_type": "code",
   "execution_count": 54,
   "metadata": {},
   "outputs": [
    {
     "data": {
      "text/html": [
       "<div>\n",
       "<style scoped>\n",
       "    .dataframe tbody tr th:only-of-type {\n",
       "        vertical-align: middle;\n",
       "    }\n",
       "\n",
       "    .dataframe tbody tr th {\n",
       "        vertical-align: top;\n",
       "    }\n",
       "\n",
       "    .dataframe thead th {\n",
       "        text-align: right;\n",
       "    }\n",
       "</style>\n",
       "<table border=\"1\" class=\"dataframe\">\n",
       "  <thead>\n",
       "    <tr style=\"text-align: right;\">\n",
       "      <th></th>\n",
       "      <th>h1n1_vaccine</th>\n",
       "      <th>seasonal_vaccine</th>\n",
       "    </tr>\n",
       "    <tr>\n",
       "      <th>respondent_id</th>\n",
       "      <th></th>\n",
       "      <th></th>\n",
       "    </tr>\n",
       "  </thead>\n",
       "  <tbody>\n",
       "    <tr>\n",
       "      <th>26707</th>\n",
       "      <td>0.370448</td>\n",
       "      <td>0.273193</td>\n",
       "    </tr>\n",
       "    <tr>\n",
       "      <th>26708</th>\n",
       "      <td>0.079469</td>\n",
       "      <td>0.044629</td>\n",
       "    </tr>\n",
       "    <tr>\n",
       "      <th>26709</th>\n",
       "      <td>0.504887</td>\n",
       "      <td>0.735957</td>\n",
       "    </tr>\n",
       "    <tr>\n",
       "      <th>26710</th>\n",
       "      <td>0.879725</td>\n",
       "      <td>0.891950</td>\n",
       "    </tr>\n",
       "    <tr>\n",
       "      <th>26711</th>\n",
       "      <td>0.687898</td>\n",
       "      <td>0.509354</td>\n",
       "    </tr>\n",
       "  </tbody>\n",
       "</table>\n",
       "</div>"
      ],
      "text/plain": [
       "               h1n1_vaccine  seasonal_vaccine\n",
       "respondent_id                                \n",
       "26707              0.370448          0.273193\n",
       "26708              0.079469          0.044629\n",
       "26709              0.504887          0.735957\n",
       "26710              0.879725          0.891950\n",
       "26711              0.687898          0.509354"
      ]
     },
     "execution_count": 54,
     "metadata": {},
     "output_type": "execute_result"
    }
   ],
   "source": [
    "# Make sure we have the rows in the same order\n",
    "np.testing.assert_array_equal(test.index.values, \n",
    "                              submission_df.index.values)\n",
    "\n",
    "# Save predictions to submission data frame\n",
    "submission_df[\"h1n1_vaccine\"] = final_h1\n",
    "submission_df[\"seasonal_vaccine\"] = final_se\n",
    "\n",
    "submission_df.head()"
   ]
  },
  {
   "cell_type": "code",
   "execution_count": 55,
   "metadata": {},
   "outputs": [],
   "source": [
    "date = pd.Timestamp.now().strftime(format='%Y-%m-%d_%H-%M_')\n",
    "submission_df.to_csv(f'predictions/{date}submssion_catboost_optunacvi.csv', index=True)"
   ]
  },
  {
   "cell_type": "markdown",
   "metadata": {},
   "source": [
    "The model scored `0.8608` not too bad, much better than the benchmark. There is a lot of room for improvment (my present score is `0.8638`, ranking **7th** on the 16th February 2021). We can verify some more parameters, CatBoost has a lot of [them](https://catboost.ai/docs/concepts/parameter-tuning.html), we may try some feature engineering (I tried some basice ones but the score did not improve so I omitted them in the analysis), change the model (LightGBM, XGBoost for example), try different imputations, increase the rounds for `optuna` a little bit and so on. Spend some time analysing the dataset and the correlation among the variables using EDA notebooks."
   ]
  },
  {
   "cell_type": "markdown",
   "metadata": {},
   "source": [
    "© Andrea Dalseno 2021"
   ]
  }
 ],
 "metadata": {
  "kernelspec": {
   "display_name": "joseml",
   "language": "python",
   "name": "joseml"
  },
  "language_info": {
   "codemirror_mode": {
    "name": "ipython",
    "version": 3
   },
   "file_extension": ".py",
   "mimetype": "text/x-python",
   "name": "python",
   "nbconvert_exporter": "python",
   "pygments_lexer": "ipython3",
   "version": "3.7.7"
  }
 },
 "nbformat": 4,
 "nbformat_minor": 4
}
